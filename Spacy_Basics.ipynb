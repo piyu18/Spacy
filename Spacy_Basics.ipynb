{
  "nbformat": 4,
  "nbformat_minor": 0,
  "metadata": {
    "colab": {
      "provenance": [],
      "authorship_tag": "ABX9TyNBBs4CBsKU0ldFGF/Qpv6Z",
      "include_colab_link": true
    },
    "kernelspec": {
      "name": "python3",
      "display_name": "Python 3"
    },
    "language_info": {
      "name": "python"
    }
  },
  "cells": [
    {
      "cell_type": "markdown",
      "metadata": {
        "id": "view-in-github",
        "colab_type": "text"
      },
      "source": [
        "<a href=\"https://colab.research.google.com/github/piyu18/Spacy/blob/main/Spacy_Basics.ipynb\" target=\"_parent\"><img src=\"https://colab.research.google.com/assets/colab-badge.svg\" alt=\"Open In Colab\"/></a>"
      ]
    },
    {
      "cell_type": "code",
      "execution_count": 1,
      "metadata": {
        "colab": {
          "base_uri": "https://localhost:8080/",
          "height": 1000
        },
        "id": "nWDTZXP91Wa0",
        "outputId": "cd51c82e-9028-4266-a99a-ae041b2b89e6"
      },
      "outputs": [
        {
          "output_type": "stream",
          "name": "stdout",
          "text": [
            "Looking in indexes: https://pypi.org/simple, https://us-python.pkg.dev/colab-wheels/public/simple/\n",
            "Requirement already satisfied: pip in /usr/local/lib/python3.10/dist-packages (23.1.2)\n",
            "Requirement already satisfied: setuptools in /usr/local/lib/python3.10/dist-packages (67.7.2)\n",
            "Collecting setuptools\n",
            "  Downloading setuptools-67.8.0-py3-none-any.whl (1.1 MB)\n",
            "\u001b[2K     \u001b[90m━━━━━━━━━━━━━━━━━━━━━━━━━━━━━━━━━━━━━━━━\u001b[0m \u001b[32m1.1/1.1 MB\u001b[0m \u001b[31m17.0 MB/s\u001b[0m eta \u001b[36m0:00:00\u001b[0m\n",
            "\u001b[?25hRequirement already satisfied: wheel in /usr/local/lib/python3.10/dist-packages (0.40.0)\n",
            "Installing collected packages: setuptools\n",
            "  Attempting uninstall: setuptools\n",
            "    Found existing installation: setuptools 67.7.2\n",
            "    Uninstalling setuptools-67.7.2:\n",
            "      Successfully uninstalled setuptools-67.7.2\n",
            "\u001b[31mERROR: pip's dependency resolver does not currently take into account all the packages that are installed. This behaviour is the source of the following dependency conflicts.\n",
            "ipython 7.34.0 requires jedi>=0.16, which is not installed.\u001b[0m\u001b[31m\n",
            "\u001b[0mSuccessfully installed setuptools-67.8.0\n"
          ]
        },
        {
          "output_type": "display_data",
          "data": {
            "application/vnd.colab-display-data+json": {
              "pip_warning": {
                "packages": [
                  "_distutils_hack",
                  "pkg_resources",
                  "setuptools"
                ]
              }
            }
          },
          "metadata": {}
        },
        {
          "output_type": "stream",
          "name": "stdout",
          "text": [
            "Looking in indexes: https://pypi.org/simple, https://us-python.pkg.dev/colab-wheels/public/simple/\n",
            "Requirement already satisfied: spacy in /usr/local/lib/python3.10/dist-packages (3.5.2)\n",
            "Collecting spacy\n",
            "  Downloading spacy-3.5.3-cp310-cp310-manylinux_2_17_x86_64.manylinux2014_x86_64.whl (6.6 MB)\n",
            "\u001b[2K     \u001b[90m━━━━━━━━━━━━━━━━━━━━━━━━━━━━━━━━━━━━━━━━\u001b[0m \u001b[32m6.6/6.6 MB\u001b[0m \u001b[31m61.1 MB/s\u001b[0m eta \u001b[36m0:00:00\u001b[0m\n",
            "\u001b[?25hRequirement already satisfied: spacy-legacy<3.1.0,>=3.0.11 in /usr/local/lib/python3.10/dist-packages (from spacy) (3.0.12)\n",
            "Requirement already satisfied: spacy-loggers<2.0.0,>=1.0.0 in /usr/local/lib/python3.10/dist-packages (from spacy) (1.0.4)\n",
            "Requirement already satisfied: murmurhash<1.1.0,>=0.28.0 in /usr/local/lib/python3.10/dist-packages (from spacy) (1.0.9)\n",
            "Requirement already satisfied: cymem<2.1.0,>=2.0.2 in /usr/local/lib/python3.10/dist-packages (from spacy) (2.0.7)\n",
            "Requirement already satisfied: preshed<3.1.0,>=3.0.2 in /usr/local/lib/python3.10/dist-packages (from spacy) (3.0.8)\n",
            "Requirement already satisfied: thinc<8.2.0,>=8.1.8 in /usr/local/lib/python3.10/dist-packages (from spacy) (8.1.9)\n",
            "Requirement already satisfied: wasabi<1.2.0,>=0.9.1 in /usr/local/lib/python3.10/dist-packages (from spacy) (1.1.1)\n",
            "Requirement already satisfied: srsly<3.0.0,>=2.4.3 in /usr/local/lib/python3.10/dist-packages (from spacy) (2.4.6)\n",
            "Requirement already satisfied: catalogue<2.1.0,>=2.0.6 in /usr/local/lib/python3.10/dist-packages (from spacy) (2.0.8)\n",
            "Requirement already satisfied: typer<0.8.0,>=0.3.0 in /usr/local/lib/python3.10/dist-packages (from spacy) (0.7.0)\n",
            "Requirement already satisfied: pathy>=0.10.0 in /usr/local/lib/python3.10/dist-packages (from spacy) (0.10.1)\n",
            "Requirement already satisfied: smart-open<7.0.0,>=5.2.1 in /usr/local/lib/python3.10/dist-packages (from spacy) (6.3.0)\n",
            "Requirement already satisfied: tqdm<5.0.0,>=4.38.0 in /usr/local/lib/python3.10/dist-packages (from spacy) (4.65.0)\n",
            "Requirement already satisfied: numpy>=1.15.0 in /usr/local/lib/python3.10/dist-packages (from spacy) (1.22.4)\n",
            "Requirement already satisfied: requests<3.0.0,>=2.13.0 in /usr/local/lib/python3.10/dist-packages (from spacy) (2.27.1)\n",
            "Requirement already satisfied: pydantic!=1.8,!=1.8.1,<1.11.0,>=1.7.4 in /usr/local/lib/python3.10/dist-packages (from spacy) (1.10.7)\n",
            "Requirement already satisfied: jinja2 in /usr/local/lib/python3.10/dist-packages (from spacy) (3.1.2)\n",
            "Requirement already satisfied: setuptools in /usr/local/lib/python3.10/dist-packages (from spacy) (67.8.0)\n",
            "Requirement already satisfied: packaging>=20.0 in /usr/local/lib/python3.10/dist-packages (from spacy) (23.1)\n",
            "Requirement already satisfied: langcodes<4.0.0,>=3.2.0 in /usr/local/lib/python3.10/dist-packages (from spacy) (3.3.0)\n",
            "Requirement already satisfied: typing-extensions>=4.2.0 in /usr/local/lib/python3.10/dist-packages (from pydantic!=1.8,!=1.8.1,<1.11.0,>=1.7.4->spacy) (4.5.0)\n",
            "Requirement already satisfied: urllib3<1.27,>=1.21.1 in /usr/local/lib/python3.10/dist-packages (from requests<3.0.0,>=2.13.0->spacy) (1.26.15)\n",
            "Requirement already satisfied: certifi>=2017.4.17 in /usr/local/lib/python3.10/dist-packages (from requests<3.0.0,>=2.13.0->spacy) (2022.12.7)\n",
            "Requirement already satisfied: charset-normalizer~=2.0.0 in /usr/local/lib/python3.10/dist-packages (from requests<3.0.0,>=2.13.0->spacy) (2.0.12)\n",
            "Requirement already satisfied: idna<4,>=2.5 in /usr/local/lib/python3.10/dist-packages (from requests<3.0.0,>=2.13.0->spacy) (3.4)\n",
            "Requirement already satisfied: blis<0.8.0,>=0.7.8 in /usr/local/lib/python3.10/dist-packages (from thinc<8.2.0,>=8.1.8->spacy) (0.7.9)\n",
            "Requirement already satisfied: confection<1.0.0,>=0.0.1 in /usr/local/lib/python3.10/dist-packages (from thinc<8.2.0,>=8.1.8->spacy) (0.0.4)\n",
            "Requirement already satisfied: click<9.0.0,>=7.1.1 in /usr/local/lib/python3.10/dist-packages (from typer<0.8.0,>=0.3.0->spacy) (8.1.3)\n",
            "Requirement already satisfied: MarkupSafe>=2.0 in /usr/local/lib/python3.10/dist-packages (from jinja2->spacy) (2.1.2)\n",
            "Installing collected packages: spacy\n",
            "  Attempting uninstall: spacy\n",
            "    Found existing installation: spacy 3.5.2\n",
            "    Uninstalling spacy-3.5.2:\n",
            "      Successfully uninstalled spacy-3.5.2\n",
            "Successfully installed spacy-3.5.3\n",
            "2023-06-12 09:07:30.500411: I tensorflow/core/platform/cpu_feature_guard.cc:182] This TensorFlow binary is optimized to use available CPU instructions in performance-critical operations.\n",
            "To enable the following instructions: AVX2 FMA, in other operations, rebuild TensorFlow with the appropriate compiler flags.\n",
            "2023-06-12 09:07:31.608155: W tensorflow/compiler/tf2tensorrt/utils/py_utils.cc:38] TF-TRT Warning: Could not find TensorRT\n",
            "Looking in indexes: https://pypi.org/simple, https://us-python.pkg.dev/colab-wheels/public/simple/\n",
            "Collecting en-core-web-sm==3.5.0\n",
            "  Downloading https://github.com/explosion/spacy-models/releases/download/en_core_web_sm-3.5.0/en_core_web_sm-3.5.0-py3-none-any.whl (12.8 MB)\n",
            "\u001b[2K     \u001b[90m━━━━━━━━━━━━━━━━━━━━━━━━━━━━━━━━━━━━━━━\u001b[0m \u001b[32m12.8/12.8 MB\u001b[0m \u001b[31m117.4 MB/s\u001b[0m eta \u001b[36m0:00:00\u001b[0m\n",
            "\u001b[?25hRequirement already satisfied: spacy<3.6.0,>=3.5.0 in /usr/local/lib/python3.10/dist-packages (from en-core-web-sm==3.5.0) (3.5.3)\n",
            "Requirement already satisfied: spacy-legacy<3.1.0,>=3.0.11 in /usr/local/lib/python3.10/dist-packages (from spacy<3.6.0,>=3.5.0->en-core-web-sm==3.5.0) (3.0.12)\n",
            "Requirement already satisfied: spacy-loggers<2.0.0,>=1.0.0 in /usr/local/lib/python3.10/dist-packages (from spacy<3.6.0,>=3.5.0->en-core-web-sm==3.5.0) (1.0.4)\n",
            "Requirement already satisfied: murmurhash<1.1.0,>=0.28.0 in /usr/local/lib/python3.10/dist-packages (from spacy<3.6.0,>=3.5.0->en-core-web-sm==3.5.0) (1.0.9)\n",
            "Requirement already satisfied: cymem<2.1.0,>=2.0.2 in /usr/local/lib/python3.10/dist-packages (from spacy<3.6.0,>=3.5.0->en-core-web-sm==3.5.0) (2.0.7)\n",
            "Requirement already satisfied: preshed<3.1.0,>=3.0.2 in /usr/local/lib/python3.10/dist-packages (from spacy<3.6.0,>=3.5.0->en-core-web-sm==3.5.0) (3.0.8)\n",
            "Requirement already satisfied: thinc<8.2.0,>=8.1.8 in /usr/local/lib/python3.10/dist-packages (from spacy<3.6.0,>=3.5.0->en-core-web-sm==3.5.0) (8.1.9)\n",
            "Requirement already satisfied: wasabi<1.2.0,>=0.9.1 in /usr/local/lib/python3.10/dist-packages (from spacy<3.6.0,>=3.5.0->en-core-web-sm==3.5.0) (1.1.1)\n",
            "Requirement already satisfied: srsly<3.0.0,>=2.4.3 in /usr/local/lib/python3.10/dist-packages (from spacy<3.6.0,>=3.5.0->en-core-web-sm==3.5.0) (2.4.6)\n",
            "Requirement already satisfied: catalogue<2.1.0,>=2.0.6 in /usr/local/lib/python3.10/dist-packages (from spacy<3.6.0,>=3.5.0->en-core-web-sm==3.5.0) (2.0.8)\n",
            "Requirement already satisfied: typer<0.8.0,>=0.3.0 in /usr/local/lib/python3.10/dist-packages (from spacy<3.6.0,>=3.5.0->en-core-web-sm==3.5.0) (0.7.0)\n",
            "Requirement already satisfied: pathy>=0.10.0 in /usr/local/lib/python3.10/dist-packages (from spacy<3.6.0,>=3.5.0->en-core-web-sm==3.5.0) (0.10.1)\n",
            "Requirement already satisfied: smart-open<7.0.0,>=5.2.1 in /usr/local/lib/python3.10/dist-packages (from spacy<3.6.0,>=3.5.0->en-core-web-sm==3.5.0) (6.3.0)\n",
            "Requirement already satisfied: tqdm<5.0.0,>=4.38.0 in /usr/local/lib/python3.10/dist-packages (from spacy<3.6.0,>=3.5.0->en-core-web-sm==3.5.0) (4.65.0)\n",
            "Requirement already satisfied: numpy>=1.15.0 in /usr/local/lib/python3.10/dist-packages (from spacy<3.6.0,>=3.5.0->en-core-web-sm==3.5.0) (1.22.4)\n",
            "Requirement already satisfied: requests<3.0.0,>=2.13.0 in /usr/local/lib/python3.10/dist-packages (from spacy<3.6.0,>=3.5.0->en-core-web-sm==3.5.0) (2.27.1)\n",
            "Requirement already satisfied: pydantic!=1.8,!=1.8.1,<1.11.0,>=1.7.4 in /usr/local/lib/python3.10/dist-packages (from spacy<3.6.0,>=3.5.0->en-core-web-sm==3.5.0) (1.10.7)\n",
            "Requirement already satisfied: jinja2 in /usr/local/lib/python3.10/dist-packages (from spacy<3.6.0,>=3.5.0->en-core-web-sm==3.5.0) (3.1.2)\n",
            "Requirement already satisfied: setuptools in /usr/local/lib/python3.10/dist-packages (from spacy<3.6.0,>=3.5.0->en-core-web-sm==3.5.0) (67.8.0)\n",
            "Requirement already satisfied: packaging>=20.0 in /usr/local/lib/python3.10/dist-packages (from spacy<3.6.0,>=3.5.0->en-core-web-sm==3.5.0) (23.1)\n",
            "Requirement already satisfied: langcodes<4.0.0,>=3.2.0 in /usr/local/lib/python3.10/dist-packages (from spacy<3.6.0,>=3.5.0->en-core-web-sm==3.5.0) (3.3.0)\n",
            "Requirement already satisfied: typing-extensions>=4.2.0 in /usr/local/lib/python3.10/dist-packages (from pydantic!=1.8,!=1.8.1,<1.11.0,>=1.7.4->spacy<3.6.0,>=3.5.0->en-core-web-sm==3.5.0) (4.5.0)\n",
            "Requirement already satisfied: urllib3<1.27,>=1.21.1 in /usr/local/lib/python3.10/dist-packages (from requests<3.0.0,>=2.13.0->spacy<3.6.0,>=3.5.0->en-core-web-sm==3.5.0) (1.26.15)\n",
            "Requirement already satisfied: certifi>=2017.4.17 in /usr/local/lib/python3.10/dist-packages (from requests<3.0.0,>=2.13.0->spacy<3.6.0,>=3.5.0->en-core-web-sm==3.5.0) (2022.12.7)\n",
            "Requirement already satisfied: charset-normalizer~=2.0.0 in /usr/local/lib/python3.10/dist-packages (from requests<3.0.0,>=2.13.0->spacy<3.6.0,>=3.5.0->en-core-web-sm==3.5.0) (2.0.12)\n",
            "Requirement already satisfied: idna<4,>=2.5 in /usr/local/lib/python3.10/dist-packages (from requests<3.0.0,>=2.13.0->spacy<3.6.0,>=3.5.0->en-core-web-sm==3.5.0) (3.4)\n",
            "Requirement already satisfied: blis<0.8.0,>=0.7.8 in /usr/local/lib/python3.10/dist-packages (from thinc<8.2.0,>=8.1.8->spacy<3.6.0,>=3.5.0->en-core-web-sm==3.5.0) (0.7.9)\n",
            "Requirement already satisfied: confection<1.0.0,>=0.0.1 in /usr/local/lib/python3.10/dist-packages (from thinc<8.2.0,>=8.1.8->spacy<3.6.0,>=3.5.0->en-core-web-sm==3.5.0) (0.0.4)\n",
            "Requirement already satisfied: click<9.0.0,>=7.1.1 in /usr/local/lib/python3.10/dist-packages (from typer<0.8.0,>=0.3.0->spacy<3.6.0,>=3.5.0->en-core-web-sm==3.5.0) (8.1.3)\n",
            "Requirement already satisfied: MarkupSafe>=2.0 in /usr/local/lib/python3.10/dist-packages (from jinja2->spacy<3.6.0,>=3.5.0->en-core-web-sm==3.5.0) (2.1.2)\n",
            "\u001b[38;5;2m✔ Download and installation successful\u001b[0m\n",
            "You can now load the package via spacy.load('en_core_web_sm')\n"
          ]
        }
      ],
      "source": [
        "! pip install -U pip setuptools wheel\n",
        "! pip install -U spacy\n",
        "! python -m spacy download en_core_web_sm"
      ]
    },
    {
      "cell_type": "markdown",
      "source": [
        "### Linguistic Annotation\n",
        "Linguistic annotation is the process of adding linguistic information or markup to a given text or language data. It involves analyzing and categorizing various linguistic features and structures present in the text, such as words, phrases, sentences, parts of speech, syntactic relationships, named entities, semantic roles, and discourse markers. The purpose of linguistic annotation is to make the underlying linguistic structure of a text explicit and machine-readable, enabling computational analysis, information retrieval, and natural language processing tasks."
      ],
      "metadata": {
        "id": "CHXKxTh07O14"
      }
    },
    {
      "cell_type": "code",
      "source": [
        "import spacy\n",
        "nlp = spacy.load('en_core_web_sm') #small eng language model\n",
        "doc = nlp('Apple at WWDC this week announced a new toolkit that makes it easier for game developers to port Windows games to the Mac.')\n",
        "for token in doc:\n",
        "  print(token.text, token.pos_,token.dep_)"
      ],
      "metadata": {
        "colab": {
          "base_uri": "https://localhost:8080/"
        },
        "id": "YDLZcobs26b_",
        "outputId": "9db938b4-44a2-4d16-ca31-b3479f2ecda1"
      },
      "execution_count": 2,
      "outputs": [
        {
          "output_type": "stream",
          "name": "stdout",
          "text": [
            "Apple NOUN nsubj\n",
            "at ADP prep\n",
            "WWDC PROPN pobj\n",
            "this DET det\n",
            "week NOUN npadvmod\n",
            "announced VERB ROOT\n",
            "a DET det\n",
            "new ADJ amod\n",
            "toolkit NOUN dobj\n",
            "that PRON nsubj\n",
            "makes VERB relcl\n",
            "it PRON nsubj\n",
            "easier ADJ ccomp\n",
            "for SCONJ mark\n",
            "game NOUN compound\n",
            "developers NOUN nsubj\n",
            "to PART aux\n",
            "port VERB advcl\n",
            "Windows PROPN compound\n",
            "games NOUN dobj\n",
            "to ADP prep\n",
            "the DET det\n",
            "Mac PROPN pobj\n",
            ". PUNCT punct\n"
          ]
        }
      ]
    },
    {
      "cell_type": "markdown",
      "source": [
        "### Spacy Pipeline\n",
        "![pipeline.svg](data:image/svg+xml;base64,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)"
      ],
      "metadata": {
        "id": "wSjLX6Zz696f"
      }
    },
    {
      "cell_type": "markdown",
      "source": [
        "When we call nlp on a text, spaCy first tokenizes the text to produce a Doc object. The Doc is then processed in several different steps which is referred to as the **processing pipeline**. \n"
      ],
      "metadata": {
        "id": "9P9xmeXt8ux9"
      }
    },
    {
      "cell_type": "markdown",
      "source": [
        "### Tokenization"
      ],
      "metadata": {
        "id": "UIVMiyEO9iMo"
      }
    },
    {
      "cell_type": "code",
      "source": [
        "text = '''\"Let's go to N.Y.!\"'''"
      ],
      "metadata": {
        "id": "hmS6PSntEgVU"
      },
      "execution_count": 6,
      "outputs": []
    },
    {
      "cell_type": "code",
      "source": [
        "doc = nlp(text)"
      ],
      "metadata": {
        "id": "VCfqkMYrEz3g"
      },
      "execution_count": 7,
      "outputs": []
    },
    {
      "cell_type": "code",
      "source": [
        "doc"
      ],
      "metadata": {
        "colab": {
          "base_uri": "https://localhost:8080/"
        },
        "id": "FOV87YrOE2fP",
        "outputId": "a4d7a73b-2b47-46ce-c7ab-eb4943314b91"
      },
      "execution_count": 8,
      "outputs": [
        {
          "output_type": "execute_result",
          "data": {
            "text/plain": [
              "\"Let's go to N.Y.!\""
            ]
          },
          "metadata": {},
          "execution_count": 8
        }
      ]
    },
    {
      "cell_type": "code",
      "source": [
        "for token in doc:\n",
        "  print(token)"
      ],
      "metadata": {
        "colab": {
          "base_uri": "https://localhost:8080/"
        },
        "id": "87LdrGa2E39_",
        "outputId": "fa702ba3-7640-41ab-d559-a8a54820cee7"
      },
      "execution_count": 9,
      "outputs": [
        {
          "output_type": "stream",
          "name": "stdout",
          "text": [
            "\"\n",
            "Let\n",
            "'s\n",
            "go\n",
            "to\n",
            "N.Y.\n",
            "!\n",
            "\"\n"
          ]
        }
      ]
    },
    {
      "cell_type": "markdown",
      "source": [
        "### POS Tagging\n",
        "Part-of-Speech Tagger (tagger): This component assigns a part-of-speech tag to each token in the text, indicating its grammatical category, such as noun, verb, adjective, etc."
      ],
      "metadata": {
        "id": "ySMfjljkFByN"
      }
    },
    {
      "cell_type": "markdown",
      "source": [
        "### Dependency Parser\n",
        "Dependency Parser (parser): The parser analyzes the syntactic structure of the sentence and assigns dependency labels to each token, indicating the grammatical relationships between words, such as subject, object, modifier, etc."
      ],
      "metadata": {
        "id": "tmhdrGN7Vszp"
      }
    },
    {
      "cell_type": "markdown",
      "source": [
        "### NER\n",
        "Named Entity Recognizer (ner): This component identifies named entities, such as person names, organization names, locations, dates, etc., and assigns them specific labels."
      ],
      "metadata": {
        "id": "m4W7J6_eV9LA"
      }
    },
    {
      "cell_type": "code",
      "source": [
        "#This Package provides BeautifulTable class for easily printing tabular data in a visually appealing format to a terminal.\n",
        "! pip install beautifultable"
      ],
      "metadata": {
        "colab": {
          "base_uri": "https://localhost:8080/"
        },
        "id": "G62nXkV7WJKq",
        "outputId": "33295ef5-1fd1-4a67-f902-46be9f901d21"
      },
      "execution_count": 10,
      "outputs": [
        {
          "output_type": "stream",
          "name": "stdout",
          "text": [
            "Looking in indexes: https://pypi.org/simple, https://us-python.pkg.dev/colab-wheels/public/simple/\n",
            "Collecting beautifultable\n",
            "  Downloading beautifultable-1.1.0-py2.py3-none-any.whl (28 kB)\n",
            "Requirement already satisfied: wcwidth in /usr/local/lib/python3.10/dist-packages (from beautifultable) (0.2.6)\n",
            "Installing collected packages: beautifultable\n",
            "Successfully installed beautifultable-1.1.0\n"
          ]
        }
      ]
    },
    {
      "cell_type": "code",
      "source": [
        "from beautifultable import BeautifulTable\n",
        "table = BeautifulTable()"
      ],
      "metadata": {
        "id": "OCUYJDGpWXS3"
      },
      "execution_count": 15,
      "outputs": []
    },
    {
      "cell_type": "code",
      "source": [
        "text = 'Apple at WWDC this week announced a new toolkit that makes it easier for game developers to port Windows games to the Mac.'\n",
        "doc = nlp(text)\n",
        "table.columns.header = ['text','POS','TAG','TAG Explaination','Dep','Shape','is_alpha','is_stop']\n",
        "for token in doc:\n",
        "  table.rows.append([token,token.pos_,token.tag_,spacy.explain(token.tag_),token.dep_,token.shape_,token.is_alpha,token.is_stop])\n"
      ],
      "metadata": {
        "id": "dSFIIFd1WoUR"
      },
      "execution_count": 16,
      "outputs": []
    },
    {
      "cell_type": "code",
      "source": [
        "print(table)"
      ],
      "metadata": {
        "colab": {
          "base_uri": "https://localhost:8080/"
        },
        "id": "6MiAc9nzXi7u",
        "outputId": "61bbe582-ec8a-4832-bfa8-b5ca8c706dec"
      },
      "execution_count": 17,
      "outputs": [
        {
          "output_type": "stream",
          "name": "stdout",
          "text": [
            "+-------+-------+-----+----------------------------+------+-------+------+-----+\n",
            "| text  |  POS  | TAG |      TAG Explaination      | Dep  | Shape | is_a | is_ |\n",
            "|       |       |     |                            |      |       | lpha | sto |\n",
            "|       |       |     |                            |      |       |      |  p  |\n",
            "+-------+-------+-----+----------------------------+------+-------+------+-----+\n",
            "| Apple | NOUN  | NN  |   noun, singular or mass   | nsub | Xxxxx |  1   |  0  |\n",
            "|       |       |     |                            |  j   |       |      |     |\n",
            "+-------+-------+-----+----------------------------+------+-------+------+-----+\n",
            "|  at   |  ADP  | IN  | conjunction, subordinating | prep |  xx   |  1   |  1  |\n",
            "|       |       |     |       or preposition       |      |       |      |     |\n",
            "+-------+-------+-----+----------------------------+------+-------+------+-----+\n",
            "| WWDC  | PROPN | NNP |   noun, proper singular    | pobj | XXXX  |  1   |  0  |\n",
            "+-------+-------+-----+----------------------------+------+-------+------+-----+\n",
            "| this  |  DET  | DT  |         determiner         | det  | xxxx  |  1   |  1  |\n",
            "+-------+-------+-----+----------------------------+------+-------+------+-----+\n",
            "| week  | NOUN  | NN  |   noun, singular or mass   | npad | xxxx  |  1   |  0  |\n",
            "|       |       |     |                            | vmod |       |      |     |\n",
            "+-------+-------+-----+----------------------------+------+-------+------+-----+\n",
            "| annou | VERB  | VBD |      verb, past tense      | ROOT | xxxx  |  1   |  0  |\n",
            "| nced  |       |     |                            |      |       |      |     |\n",
            "+-------+-------+-----+----------------------------+------+-------+------+-----+\n",
            "|   a   |  DET  | DT  |         determiner         | det  |   x   |  1   |  1  |\n",
            "+-------+-------+-----+----------------------------+------+-------+------+-----+\n",
            "|  new  |  ADJ  | JJ  | adjective (English), other | amod |  xxx  |  1   |  0  |\n",
            "|       |       |     |   noun-modifier (Chinese)  |      |       |      |     |\n",
            "+-------+-------+-----+----------------------------+------+-------+------+-----+\n",
            "| toolk | NOUN  | NN  |   noun, singular or mass   | dobj | xxxx  |  1   |  0  |\n",
            "|  it   |       |     |                            |      |       |      |     |\n",
            "+-------+-------+-----+----------------------------+------+-------+------+-----+\n",
            "| that  | PRON  | WDT |       wh-determiner        | nsub | xxxx  |  1   |  1  |\n",
            "|       |       |     |                            |  j   |       |      |     |\n",
            "+-------+-------+-----+----------------------------+------+-------+------+-----+\n",
            "| makes | VERB  | VBZ | verb, 3rd person singular  | relc | xxxx  |  1   |  0  |\n",
            "|       |       |     |          present           |  l   |       |      |     |\n",
            "+-------+-------+-----+----------------------------+------+-------+------+-----+\n",
            "|  it   | PRON  | PRP |     pronoun, personal      | nsub |  xx   |  1   |  1  |\n",
            "|       |       |     |                            |  j   |       |      |     |\n",
            "+-------+-------+-----+----------------------------+------+-------+------+-----+\n",
            "| easie |  ADJ  | JJR |   adjective, comparative   | ccom | xxxx  |  1   |  0  |\n",
            "|   r   |       |     |                            |  p   |       |      |     |\n",
            "+-------+-------+-----+----------------------------+------+-------+------+-----+\n",
            "|  for  | SCONJ | IN  | conjunction, subordinating | mark |  xxx  |  1   |  1  |\n",
            "|       |       |     |       or preposition       |      |       |      |     |\n",
            "+-------+-------+-----+----------------------------+------+-------+------+-----+\n",
            "| game  | NOUN  | NN  |   noun, singular or mass   | comp | xxxx  |  1   |  0  |\n",
            "|       |       |     |                            | ound |       |      |     |\n",
            "+-------+-------+-----+----------------------------+------+-------+------+-----+\n",
            "| devel | NOUN  | NNS |        noun, plural        | nsub | xxxx  |  1   |  0  |\n",
            "| opers |       |     |                            |  j   |       |      |     |\n",
            "+-------+-------+-----+----------------------------+------+-------+------+-----+\n",
            "|  to   | PART  | TO  |      infinitival \"to\"      | aux  |  xx   |  1   |  1  |\n",
            "+-------+-------+-----+----------------------------+------+-------+------+-----+\n",
            "| port  | VERB  | VB  |      verb, base form       | advc | xxxx  |  1   |  0  |\n",
            "|       |       |     |                            |  l   |       |      |     |\n",
            "+-------+-------+-----+----------------------------+------+-------+------+-----+\n",
            "| Windo | PROPN | NNP |   noun, proper singular    | comp | Xxxxx |  1   |  0  |\n",
            "|  ws   |       |     |                            | ound |       |      |     |\n",
            "+-------+-------+-----+----------------------------+------+-------+------+-----+\n",
            "| games | NOUN  | NNS |        noun, plural        | dobj | xxxx  |  1   |  0  |\n",
            "+-------+-------+-----+----------------------------+------+-------+------+-----+\n",
            "|  to   |  ADP  | IN  | conjunction, subordinating | prep |  xx   |  1   |  1  |\n",
            "|       |       |     |       or preposition       |      |       |      |     |\n",
            "+-------+-------+-----+----------------------------+------+-------+------+-----+\n",
            "|  the  |  DET  | DT  |         determiner         | det  |  xxx  |  1   |  1  |\n",
            "+-------+-------+-----+----------------------------+------+-------+------+-----+\n",
            "|  Mac  | PROPN | NNP |   noun, proper singular    | pobj |  Xxx  |  1   |  0  |\n",
            "+-------+-------+-----+----------------------------+------+-------+------+-----+\n",
            "|   .   | PUNCT |  .  | punctuation mark, sentence | punc |   .   |  0   |  0  |\n",
            "|       |       |     |           closer           |  t   |       |      |     |\n",
            "+-------+-------+-----+----------------------------+------+-------+------+-----+\n"
          ]
        }
      ]
    },
    {
      "cell_type": "markdown",
      "source": [
        "### shape_\n",
        "Transform of the word’s string, to show orthographic features. Alphabetic characters are replaced by x or X, and numeric characters are replaced by d, and sequences of the same character are truncated after length 4. For example,\"Xxxx\"or\"dd\"\n",
        "\n",
        "https://spacy.io/api/lexeme#section-attributes"
      ],
      "metadata": {
        "id": "QN-_LKgQXlX8"
      }
    },
    {
      "cell_type": "markdown",
      "source": [
        "### Visualizing Dependency Parser"
      ],
      "metadata": {
        "id": "-27WKMhnYtsO"
      }
    },
    {
      "cell_type": "code",
      "source": [
        "from spacy import displacy\n",
        "displacy.render(doc, style='dep', jupyter=True)"
      ],
      "metadata": {
        "colab": {
          "base_uri": "https://localhost:8080/",
          "height": 529
        },
        "id": "86xrCGEAj4eA",
        "outputId": "6a30707e-30a2-4569-8c5b-ece9a0c56366"
      },
      "execution_count": 18,
      "outputs": [
        {
          "output_type": "display_data",
          "data": {
            "text/plain": [
              "<IPython.core.display.HTML object>"
            ],
            "text/html": [
              "<span class=\"tex2jax_ignore\"><svg xmlns=\"http://www.w3.org/2000/svg\" xmlns:xlink=\"http://www.w3.org/1999/xlink\" xml:lang=\"en\" id=\"2bd5f91b065f45d182e8a6f10e19a2ca-0\" class=\"displacy\" width=\"4075\" height=\"487.0\" direction=\"ltr\" style=\"max-width: none; height: 487.0px; color: #000000; background: #ffffff; font-family: Arial; direction: ltr\">\n",
              "<text class=\"displacy-token\" fill=\"currentColor\" text-anchor=\"middle\" y=\"397.0\">\n",
              "    <tspan class=\"displacy-word\" fill=\"currentColor\" x=\"50\">Apple</tspan>\n",
              "    <tspan class=\"displacy-tag\" dy=\"2em\" fill=\"currentColor\" x=\"50\">NOUN</tspan>\n",
              "</text>\n",
              "\n",
              "<text class=\"displacy-token\" fill=\"currentColor\" text-anchor=\"middle\" y=\"397.0\">\n",
              "    <tspan class=\"displacy-word\" fill=\"currentColor\" x=\"225\">at</tspan>\n",
              "    <tspan class=\"displacy-tag\" dy=\"2em\" fill=\"currentColor\" x=\"225\">ADP</tspan>\n",
              "</text>\n",
              "\n",
              "<text class=\"displacy-token\" fill=\"currentColor\" text-anchor=\"middle\" y=\"397.0\">\n",
              "    <tspan class=\"displacy-word\" fill=\"currentColor\" x=\"400\">WWDC</tspan>\n",
              "    <tspan class=\"displacy-tag\" dy=\"2em\" fill=\"currentColor\" x=\"400\">PROPN</tspan>\n",
              "</text>\n",
              "\n",
              "<text class=\"displacy-token\" fill=\"currentColor\" text-anchor=\"middle\" y=\"397.0\">\n",
              "    <tspan class=\"displacy-word\" fill=\"currentColor\" x=\"575\">this</tspan>\n",
              "    <tspan class=\"displacy-tag\" dy=\"2em\" fill=\"currentColor\" x=\"575\">DET</tspan>\n",
              "</text>\n",
              "\n",
              "<text class=\"displacy-token\" fill=\"currentColor\" text-anchor=\"middle\" y=\"397.0\">\n",
              "    <tspan class=\"displacy-word\" fill=\"currentColor\" x=\"750\">week</tspan>\n",
              "    <tspan class=\"displacy-tag\" dy=\"2em\" fill=\"currentColor\" x=\"750\">NOUN</tspan>\n",
              "</text>\n",
              "\n",
              "<text class=\"displacy-token\" fill=\"currentColor\" text-anchor=\"middle\" y=\"397.0\">\n",
              "    <tspan class=\"displacy-word\" fill=\"currentColor\" x=\"925\">announced</tspan>\n",
              "    <tspan class=\"displacy-tag\" dy=\"2em\" fill=\"currentColor\" x=\"925\">VERB</tspan>\n",
              "</text>\n",
              "\n",
              "<text class=\"displacy-token\" fill=\"currentColor\" text-anchor=\"middle\" y=\"397.0\">\n",
              "    <tspan class=\"displacy-word\" fill=\"currentColor\" x=\"1100\">a</tspan>\n",
              "    <tspan class=\"displacy-tag\" dy=\"2em\" fill=\"currentColor\" x=\"1100\">DET</tspan>\n",
              "</text>\n",
              "\n",
              "<text class=\"displacy-token\" fill=\"currentColor\" text-anchor=\"middle\" y=\"397.0\">\n",
              "    <tspan class=\"displacy-word\" fill=\"currentColor\" x=\"1275\">new</tspan>\n",
              "    <tspan class=\"displacy-tag\" dy=\"2em\" fill=\"currentColor\" x=\"1275\">ADJ</tspan>\n",
              "</text>\n",
              "\n",
              "<text class=\"displacy-token\" fill=\"currentColor\" text-anchor=\"middle\" y=\"397.0\">\n",
              "    <tspan class=\"displacy-word\" fill=\"currentColor\" x=\"1450\">toolkit</tspan>\n",
              "    <tspan class=\"displacy-tag\" dy=\"2em\" fill=\"currentColor\" x=\"1450\">NOUN</tspan>\n",
              "</text>\n",
              "\n",
              "<text class=\"displacy-token\" fill=\"currentColor\" text-anchor=\"middle\" y=\"397.0\">\n",
              "    <tspan class=\"displacy-word\" fill=\"currentColor\" x=\"1625\">that</tspan>\n",
              "    <tspan class=\"displacy-tag\" dy=\"2em\" fill=\"currentColor\" x=\"1625\">PRON</tspan>\n",
              "</text>\n",
              "\n",
              "<text class=\"displacy-token\" fill=\"currentColor\" text-anchor=\"middle\" y=\"397.0\">\n",
              "    <tspan class=\"displacy-word\" fill=\"currentColor\" x=\"1800\">makes</tspan>\n",
              "    <tspan class=\"displacy-tag\" dy=\"2em\" fill=\"currentColor\" x=\"1800\">VERB</tspan>\n",
              "</text>\n",
              "\n",
              "<text class=\"displacy-token\" fill=\"currentColor\" text-anchor=\"middle\" y=\"397.0\">\n",
              "    <tspan class=\"displacy-word\" fill=\"currentColor\" x=\"1975\">it</tspan>\n",
              "    <tspan class=\"displacy-tag\" dy=\"2em\" fill=\"currentColor\" x=\"1975\">PRON</tspan>\n",
              "</text>\n",
              "\n",
              "<text class=\"displacy-token\" fill=\"currentColor\" text-anchor=\"middle\" y=\"397.0\">\n",
              "    <tspan class=\"displacy-word\" fill=\"currentColor\" x=\"2150\">easier</tspan>\n",
              "    <tspan class=\"displacy-tag\" dy=\"2em\" fill=\"currentColor\" x=\"2150\">ADJ</tspan>\n",
              "</text>\n",
              "\n",
              "<text class=\"displacy-token\" fill=\"currentColor\" text-anchor=\"middle\" y=\"397.0\">\n",
              "    <tspan class=\"displacy-word\" fill=\"currentColor\" x=\"2325\">for</tspan>\n",
              "    <tspan class=\"displacy-tag\" dy=\"2em\" fill=\"currentColor\" x=\"2325\">SCONJ</tspan>\n",
              "</text>\n",
              "\n",
              "<text class=\"displacy-token\" fill=\"currentColor\" text-anchor=\"middle\" y=\"397.0\">\n",
              "    <tspan class=\"displacy-word\" fill=\"currentColor\" x=\"2500\">game</tspan>\n",
              "    <tspan class=\"displacy-tag\" dy=\"2em\" fill=\"currentColor\" x=\"2500\">NOUN</tspan>\n",
              "</text>\n",
              "\n",
              "<text class=\"displacy-token\" fill=\"currentColor\" text-anchor=\"middle\" y=\"397.0\">\n",
              "    <tspan class=\"displacy-word\" fill=\"currentColor\" x=\"2675\">developers</tspan>\n",
              "    <tspan class=\"displacy-tag\" dy=\"2em\" fill=\"currentColor\" x=\"2675\">NOUN</tspan>\n",
              "</text>\n",
              "\n",
              "<text class=\"displacy-token\" fill=\"currentColor\" text-anchor=\"middle\" y=\"397.0\">\n",
              "    <tspan class=\"displacy-word\" fill=\"currentColor\" x=\"2850\">to</tspan>\n",
              "    <tspan class=\"displacy-tag\" dy=\"2em\" fill=\"currentColor\" x=\"2850\">PART</tspan>\n",
              "</text>\n",
              "\n",
              "<text class=\"displacy-token\" fill=\"currentColor\" text-anchor=\"middle\" y=\"397.0\">\n",
              "    <tspan class=\"displacy-word\" fill=\"currentColor\" x=\"3025\">port</tspan>\n",
              "    <tspan class=\"displacy-tag\" dy=\"2em\" fill=\"currentColor\" x=\"3025\">VERB</tspan>\n",
              "</text>\n",
              "\n",
              "<text class=\"displacy-token\" fill=\"currentColor\" text-anchor=\"middle\" y=\"397.0\">\n",
              "    <tspan class=\"displacy-word\" fill=\"currentColor\" x=\"3200\">Windows</tspan>\n",
              "    <tspan class=\"displacy-tag\" dy=\"2em\" fill=\"currentColor\" x=\"3200\">PROPN</tspan>\n",
              "</text>\n",
              "\n",
              "<text class=\"displacy-token\" fill=\"currentColor\" text-anchor=\"middle\" y=\"397.0\">\n",
              "    <tspan class=\"displacy-word\" fill=\"currentColor\" x=\"3375\">games</tspan>\n",
              "    <tspan class=\"displacy-tag\" dy=\"2em\" fill=\"currentColor\" x=\"3375\">NOUN</tspan>\n",
              "</text>\n",
              "\n",
              "<text class=\"displacy-token\" fill=\"currentColor\" text-anchor=\"middle\" y=\"397.0\">\n",
              "    <tspan class=\"displacy-word\" fill=\"currentColor\" x=\"3550\">to</tspan>\n",
              "    <tspan class=\"displacy-tag\" dy=\"2em\" fill=\"currentColor\" x=\"3550\">ADP</tspan>\n",
              "</text>\n",
              "\n",
              "<text class=\"displacy-token\" fill=\"currentColor\" text-anchor=\"middle\" y=\"397.0\">\n",
              "    <tspan class=\"displacy-word\" fill=\"currentColor\" x=\"3725\">the</tspan>\n",
              "    <tspan class=\"displacy-tag\" dy=\"2em\" fill=\"currentColor\" x=\"3725\">DET</tspan>\n",
              "</text>\n",
              "\n",
              "<text class=\"displacy-token\" fill=\"currentColor\" text-anchor=\"middle\" y=\"397.0\">\n",
              "    <tspan class=\"displacy-word\" fill=\"currentColor\" x=\"3900\">Mac.</tspan>\n",
              "    <tspan class=\"displacy-tag\" dy=\"2em\" fill=\"currentColor\" x=\"3900\">PROPN</tspan>\n",
              "</text>\n",
              "\n",
              "<g class=\"displacy-arrow\">\n",
              "    <path class=\"displacy-arc\" id=\"arrow-2bd5f91b065f45d182e8a6f10e19a2ca-0-0\" stroke-width=\"2px\" d=\"M70,352.0 C70,177.0 915.0,177.0 915.0,352.0\" fill=\"none\" stroke=\"currentColor\"/>\n",
              "    <text dy=\"1.25em\" style=\"font-size: 0.8em; letter-spacing: 1px\">\n",
              "        <textPath xlink:href=\"#arrow-2bd5f91b065f45d182e8a6f10e19a2ca-0-0\" class=\"displacy-label\" startOffset=\"50%\" side=\"left\" fill=\"currentColor\" text-anchor=\"middle\">nsubj</textPath>\n",
              "    </text>\n",
              "    <path class=\"displacy-arrowhead\" d=\"M70,354.0 L62,342.0 78,342.0\" fill=\"currentColor\"/>\n",
              "</g>\n",
              "\n",
              "<g class=\"displacy-arrow\">\n",
              "    <path class=\"displacy-arc\" id=\"arrow-2bd5f91b065f45d182e8a6f10e19a2ca-0-1\" stroke-width=\"2px\" d=\"M70,352.0 C70,264.5 210.0,264.5 210.0,352.0\" fill=\"none\" stroke=\"currentColor\"/>\n",
              "    <text dy=\"1.25em\" style=\"font-size: 0.8em; letter-spacing: 1px\">\n",
              "        <textPath xlink:href=\"#arrow-2bd5f91b065f45d182e8a6f10e19a2ca-0-1\" class=\"displacy-label\" startOffset=\"50%\" side=\"left\" fill=\"currentColor\" text-anchor=\"middle\">prep</textPath>\n",
              "    </text>\n",
              "    <path class=\"displacy-arrowhead\" d=\"M210.0,354.0 L218.0,342.0 202.0,342.0\" fill=\"currentColor\"/>\n",
              "</g>\n",
              "\n",
              "<g class=\"displacy-arrow\">\n",
              "    <path class=\"displacy-arc\" id=\"arrow-2bd5f91b065f45d182e8a6f10e19a2ca-0-2\" stroke-width=\"2px\" d=\"M245,352.0 C245,264.5 385.0,264.5 385.0,352.0\" fill=\"none\" stroke=\"currentColor\"/>\n",
              "    <text dy=\"1.25em\" style=\"font-size: 0.8em; letter-spacing: 1px\">\n",
              "        <textPath xlink:href=\"#arrow-2bd5f91b065f45d182e8a6f10e19a2ca-0-2\" class=\"displacy-label\" startOffset=\"50%\" side=\"left\" fill=\"currentColor\" text-anchor=\"middle\">pobj</textPath>\n",
              "    </text>\n",
              "    <path class=\"displacy-arrowhead\" d=\"M385.0,354.0 L393.0,342.0 377.0,342.0\" fill=\"currentColor\"/>\n",
              "</g>\n",
              "\n",
              "<g class=\"displacy-arrow\">\n",
              "    <path class=\"displacy-arc\" id=\"arrow-2bd5f91b065f45d182e8a6f10e19a2ca-0-3\" stroke-width=\"2px\" d=\"M595,352.0 C595,264.5 735.0,264.5 735.0,352.0\" fill=\"none\" stroke=\"currentColor\"/>\n",
              "    <text dy=\"1.25em\" style=\"font-size: 0.8em; letter-spacing: 1px\">\n",
              "        <textPath xlink:href=\"#arrow-2bd5f91b065f45d182e8a6f10e19a2ca-0-3\" class=\"displacy-label\" startOffset=\"50%\" side=\"left\" fill=\"currentColor\" text-anchor=\"middle\">det</textPath>\n",
              "    </text>\n",
              "    <path class=\"displacy-arrowhead\" d=\"M595,354.0 L587,342.0 603,342.0\" fill=\"currentColor\"/>\n",
              "</g>\n",
              "\n",
              "<g class=\"displacy-arrow\">\n",
              "    <path class=\"displacy-arc\" id=\"arrow-2bd5f91b065f45d182e8a6f10e19a2ca-0-4\" stroke-width=\"2px\" d=\"M770,352.0 C770,264.5 910.0,264.5 910.0,352.0\" fill=\"none\" stroke=\"currentColor\"/>\n",
              "    <text dy=\"1.25em\" style=\"font-size: 0.8em; letter-spacing: 1px\">\n",
              "        <textPath xlink:href=\"#arrow-2bd5f91b065f45d182e8a6f10e19a2ca-0-4\" class=\"displacy-label\" startOffset=\"50%\" side=\"left\" fill=\"currentColor\" text-anchor=\"middle\">npadvmod</textPath>\n",
              "    </text>\n",
              "    <path class=\"displacy-arrowhead\" d=\"M770,354.0 L762,342.0 778,342.0\" fill=\"currentColor\"/>\n",
              "</g>\n",
              "\n",
              "<g class=\"displacy-arrow\">\n",
              "    <path class=\"displacy-arc\" id=\"arrow-2bd5f91b065f45d182e8a6f10e19a2ca-0-5\" stroke-width=\"2px\" d=\"M1120,352.0 C1120,177.0 1440.0,177.0 1440.0,352.0\" fill=\"none\" stroke=\"currentColor\"/>\n",
              "    <text dy=\"1.25em\" style=\"font-size: 0.8em; letter-spacing: 1px\">\n",
              "        <textPath xlink:href=\"#arrow-2bd5f91b065f45d182e8a6f10e19a2ca-0-5\" class=\"displacy-label\" startOffset=\"50%\" side=\"left\" fill=\"currentColor\" text-anchor=\"middle\">det</textPath>\n",
              "    </text>\n",
              "    <path class=\"displacy-arrowhead\" d=\"M1120,354.0 L1112,342.0 1128,342.0\" fill=\"currentColor\"/>\n",
              "</g>\n",
              "\n",
              "<g class=\"displacy-arrow\">\n",
              "    <path class=\"displacy-arc\" id=\"arrow-2bd5f91b065f45d182e8a6f10e19a2ca-0-6\" stroke-width=\"2px\" d=\"M1295,352.0 C1295,264.5 1435.0,264.5 1435.0,352.0\" fill=\"none\" stroke=\"currentColor\"/>\n",
              "    <text dy=\"1.25em\" style=\"font-size: 0.8em; letter-spacing: 1px\">\n",
              "        <textPath xlink:href=\"#arrow-2bd5f91b065f45d182e8a6f10e19a2ca-0-6\" class=\"displacy-label\" startOffset=\"50%\" side=\"left\" fill=\"currentColor\" text-anchor=\"middle\">amod</textPath>\n",
              "    </text>\n",
              "    <path class=\"displacy-arrowhead\" d=\"M1295,354.0 L1287,342.0 1303,342.0\" fill=\"currentColor\"/>\n",
              "</g>\n",
              "\n",
              "<g class=\"displacy-arrow\">\n",
              "    <path class=\"displacy-arc\" id=\"arrow-2bd5f91b065f45d182e8a6f10e19a2ca-0-7\" stroke-width=\"2px\" d=\"M945,352.0 C945,89.5 1445.0,89.5 1445.0,352.0\" fill=\"none\" stroke=\"currentColor\"/>\n",
              "    <text dy=\"1.25em\" style=\"font-size: 0.8em; letter-spacing: 1px\">\n",
              "        <textPath xlink:href=\"#arrow-2bd5f91b065f45d182e8a6f10e19a2ca-0-7\" class=\"displacy-label\" startOffset=\"50%\" side=\"left\" fill=\"currentColor\" text-anchor=\"middle\">dobj</textPath>\n",
              "    </text>\n",
              "    <path class=\"displacy-arrowhead\" d=\"M1445.0,354.0 L1453.0,342.0 1437.0,342.0\" fill=\"currentColor\"/>\n",
              "</g>\n",
              "\n",
              "<g class=\"displacy-arrow\">\n",
              "    <path class=\"displacy-arc\" id=\"arrow-2bd5f91b065f45d182e8a6f10e19a2ca-0-8\" stroke-width=\"2px\" d=\"M1645,352.0 C1645,264.5 1785.0,264.5 1785.0,352.0\" fill=\"none\" stroke=\"currentColor\"/>\n",
              "    <text dy=\"1.25em\" style=\"font-size: 0.8em; letter-spacing: 1px\">\n",
              "        <textPath xlink:href=\"#arrow-2bd5f91b065f45d182e8a6f10e19a2ca-0-8\" class=\"displacy-label\" startOffset=\"50%\" side=\"left\" fill=\"currentColor\" text-anchor=\"middle\">nsubj</textPath>\n",
              "    </text>\n",
              "    <path class=\"displacy-arrowhead\" d=\"M1645,354.0 L1637,342.0 1653,342.0\" fill=\"currentColor\"/>\n",
              "</g>\n",
              "\n",
              "<g class=\"displacy-arrow\">\n",
              "    <path class=\"displacy-arc\" id=\"arrow-2bd5f91b065f45d182e8a6f10e19a2ca-0-9\" stroke-width=\"2px\" d=\"M1470,352.0 C1470,177.0 1790.0,177.0 1790.0,352.0\" fill=\"none\" stroke=\"currentColor\"/>\n",
              "    <text dy=\"1.25em\" style=\"font-size: 0.8em; letter-spacing: 1px\">\n",
              "        <textPath xlink:href=\"#arrow-2bd5f91b065f45d182e8a6f10e19a2ca-0-9\" class=\"displacy-label\" startOffset=\"50%\" side=\"left\" fill=\"currentColor\" text-anchor=\"middle\">relcl</textPath>\n",
              "    </text>\n",
              "    <path class=\"displacy-arrowhead\" d=\"M1790.0,354.0 L1798.0,342.0 1782.0,342.0\" fill=\"currentColor\"/>\n",
              "</g>\n",
              "\n",
              "<g class=\"displacy-arrow\">\n",
              "    <path class=\"displacy-arc\" id=\"arrow-2bd5f91b065f45d182e8a6f10e19a2ca-0-10\" stroke-width=\"2px\" d=\"M1995,352.0 C1995,264.5 2135.0,264.5 2135.0,352.0\" fill=\"none\" stroke=\"currentColor\"/>\n",
              "    <text dy=\"1.25em\" style=\"font-size: 0.8em; letter-spacing: 1px\">\n",
              "        <textPath xlink:href=\"#arrow-2bd5f91b065f45d182e8a6f10e19a2ca-0-10\" class=\"displacy-label\" startOffset=\"50%\" side=\"left\" fill=\"currentColor\" text-anchor=\"middle\">nsubj</textPath>\n",
              "    </text>\n",
              "    <path class=\"displacy-arrowhead\" d=\"M1995,354.0 L1987,342.0 2003,342.0\" fill=\"currentColor\"/>\n",
              "</g>\n",
              "\n",
              "<g class=\"displacy-arrow\">\n",
              "    <path class=\"displacy-arc\" id=\"arrow-2bd5f91b065f45d182e8a6f10e19a2ca-0-11\" stroke-width=\"2px\" d=\"M1820,352.0 C1820,177.0 2140.0,177.0 2140.0,352.0\" fill=\"none\" stroke=\"currentColor\"/>\n",
              "    <text dy=\"1.25em\" style=\"font-size: 0.8em; letter-spacing: 1px\">\n",
              "        <textPath xlink:href=\"#arrow-2bd5f91b065f45d182e8a6f10e19a2ca-0-11\" class=\"displacy-label\" startOffset=\"50%\" side=\"left\" fill=\"currentColor\" text-anchor=\"middle\">ccomp</textPath>\n",
              "    </text>\n",
              "    <path class=\"displacy-arrowhead\" d=\"M2140.0,354.0 L2148.0,342.0 2132.0,342.0\" fill=\"currentColor\"/>\n",
              "</g>\n",
              "\n",
              "<g class=\"displacy-arrow\">\n",
              "    <path class=\"displacy-arc\" id=\"arrow-2bd5f91b065f45d182e8a6f10e19a2ca-0-12\" stroke-width=\"2px\" d=\"M2345,352.0 C2345,89.5 3020.0,89.5 3020.0,352.0\" fill=\"none\" stroke=\"currentColor\"/>\n",
              "    <text dy=\"1.25em\" style=\"font-size: 0.8em; letter-spacing: 1px\">\n",
              "        <textPath xlink:href=\"#arrow-2bd5f91b065f45d182e8a6f10e19a2ca-0-12\" class=\"displacy-label\" startOffset=\"50%\" side=\"left\" fill=\"currentColor\" text-anchor=\"middle\">mark</textPath>\n",
              "    </text>\n",
              "    <path class=\"displacy-arrowhead\" d=\"M2345,354.0 L2337,342.0 2353,342.0\" fill=\"currentColor\"/>\n",
              "</g>\n",
              "\n",
              "<g class=\"displacy-arrow\">\n",
              "    <path class=\"displacy-arc\" id=\"arrow-2bd5f91b065f45d182e8a6f10e19a2ca-0-13\" stroke-width=\"2px\" d=\"M2520,352.0 C2520,264.5 2660.0,264.5 2660.0,352.0\" fill=\"none\" stroke=\"currentColor\"/>\n",
              "    <text dy=\"1.25em\" style=\"font-size: 0.8em; letter-spacing: 1px\">\n",
              "        <textPath xlink:href=\"#arrow-2bd5f91b065f45d182e8a6f10e19a2ca-0-13\" class=\"displacy-label\" startOffset=\"50%\" side=\"left\" fill=\"currentColor\" text-anchor=\"middle\">compound</textPath>\n",
              "    </text>\n",
              "    <path class=\"displacy-arrowhead\" d=\"M2520,354.0 L2512,342.0 2528,342.0\" fill=\"currentColor\"/>\n",
              "</g>\n",
              "\n",
              "<g class=\"displacy-arrow\">\n",
              "    <path class=\"displacy-arc\" id=\"arrow-2bd5f91b065f45d182e8a6f10e19a2ca-0-14\" stroke-width=\"2px\" d=\"M2695,352.0 C2695,177.0 3015.0,177.0 3015.0,352.0\" fill=\"none\" stroke=\"currentColor\"/>\n",
              "    <text dy=\"1.25em\" style=\"font-size: 0.8em; letter-spacing: 1px\">\n",
              "        <textPath xlink:href=\"#arrow-2bd5f91b065f45d182e8a6f10e19a2ca-0-14\" class=\"displacy-label\" startOffset=\"50%\" side=\"left\" fill=\"currentColor\" text-anchor=\"middle\">nsubj</textPath>\n",
              "    </text>\n",
              "    <path class=\"displacy-arrowhead\" d=\"M2695,354.0 L2687,342.0 2703,342.0\" fill=\"currentColor\"/>\n",
              "</g>\n",
              "\n",
              "<g class=\"displacy-arrow\">\n",
              "    <path class=\"displacy-arc\" id=\"arrow-2bd5f91b065f45d182e8a6f10e19a2ca-0-15\" stroke-width=\"2px\" d=\"M2870,352.0 C2870,264.5 3010.0,264.5 3010.0,352.0\" fill=\"none\" stroke=\"currentColor\"/>\n",
              "    <text dy=\"1.25em\" style=\"font-size: 0.8em; letter-spacing: 1px\">\n",
              "        <textPath xlink:href=\"#arrow-2bd5f91b065f45d182e8a6f10e19a2ca-0-15\" class=\"displacy-label\" startOffset=\"50%\" side=\"left\" fill=\"currentColor\" text-anchor=\"middle\">aux</textPath>\n",
              "    </text>\n",
              "    <path class=\"displacy-arrowhead\" d=\"M2870,354.0 L2862,342.0 2878,342.0\" fill=\"currentColor\"/>\n",
              "</g>\n",
              "\n",
              "<g class=\"displacy-arrow\">\n",
              "    <path class=\"displacy-arc\" id=\"arrow-2bd5f91b065f45d182e8a6f10e19a2ca-0-16\" stroke-width=\"2px\" d=\"M2170,352.0 C2170,2.0 3025.0,2.0 3025.0,352.0\" fill=\"none\" stroke=\"currentColor\"/>\n",
              "    <text dy=\"1.25em\" style=\"font-size: 0.8em; letter-spacing: 1px\">\n",
              "        <textPath xlink:href=\"#arrow-2bd5f91b065f45d182e8a6f10e19a2ca-0-16\" class=\"displacy-label\" startOffset=\"50%\" side=\"left\" fill=\"currentColor\" text-anchor=\"middle\">advcl</textPath>\n",
              "    </text>\n",
              "    <path class=\"displacy-arrowhead\" d=\"M3025.0,354.0 L3033.0,342.0 3017.0,342.0\" fill=\"currentColor\"/>\n",
              "</g>\n",
              "\n",
              "<g class=\"displacy-arrow\">\n",
              "    <path class=\"displacy-arc\" id=\"arrow-2bd5f91b065f45d182e8a6f10e19a2ca-0-17\" stroke-width=\"2px\" d=\"M3220,352.0 C3220,264.5 3360.0,264.5 3360.0,352.0\" fill=\"none\" stroke=\"currentColor\"/>\n",
              "    <text dy=\"1.25em\" style=\"font-size: 0.8em; letter-spacing: 1px\">\n",
              "        <textPath xlink:href=\"#arrow-2bd5f91b065f45d182e8a6f10e19a2ca-0-17\" class=\"displacy-label\" startOffset=\"50%\" side=\"left\" fill=\"currentColor\" text-anchor=\"middle\">compound</textPath>\n",
              "    </text>\n",
              "    <path class=\"displacy-arrowhead\" d=\"M3220,354.0 L3212,342.0 3228,342.0\" fill=\"currentColor\"/>\n",
              "</g>\n",
              "\n",
              "<g class=\"displacy-arrow\">\n",
              "    <path class=\"displacy-arc\" id=\"arrow-2bd5f91b065f45d182e8a6f10e19a2ca-0-18\" stroke-width=\"2px\" d=\"M3045,352.0 C3045,177.0 3365.0,177.0 3365.0,352.0\" fill=\"none\" stroke=\"currentColor\"/>\n",
              "    <text dy=\"1.25em\" style=\"font-size: 0.8em; letter-spacing: 1px\">\n",
              "        <textPath xlink:href=\"#arrow-2bd5f91b065f45d182e8a6f10e19a2ca-0-18\" class=\"displacy-label\" startOffset=\"50%\" side=\"left\" fill=\"currentColor\" text-anchor=\"middle\">dobj</textPath>\n",
              "    </text>\n",
              "    <path class=\"displacy-arrowhead\" d=\"M3365.0,354.0 L3373.0,342.0 3357.0,342.0\" fill=\"currentColor\"/>\n",
              "</g>\n",
              "\n",
              "<g class=\"displacy-arrow\">\n",
              "    <path class=\"displacy-arc\" id=\"arrow-2bd5f91b065f45d182e8a6f10e19a2ca-0-19\" stroke-width=\"2px\" d=\"M3045,352.0 C3045,89.5 3545.0,89.5 3545.0,352.0\" fill=\"none\" stroke=\"currentColor\"/>\n",
              "    <text dy=\"1.25em\" style=\"font-size: 0.8em; letter-spacing: 1px\">\n",
              "        <textPath xlink:href=\"#arrow-2bd5f91b065f45d182e8a6f10e19a2ca-0-19\" class=\"displacy-label\" startOffset=\"50%\" side=\"left\" fill=\"currentColor\" text-anchor=\"middle\">prep</textPath>\n",
              "    </text>\n",
              "    <path class=\"displacy-arrowhead\" d=\"M3545.0,354.0 L3553.0,342.0 3537.0,342.0\" fill=\"currentColor\"/>\n",
              "</g>\n",
              "\n",
              "<g class=\"displacy-arrow\">\n",
              "    <path class=\"displacy-arc\" id=\"arrow-2bd5f91b065f45d182e8a6f10e19a2ca-0-20\" stroke-width=\"2px\" d=\"M3745,352.0 C3745,264.5 3885.0,264.5 3885.0,352.0\" fill=\"none\" stroke=\"currentColor\"/>\n",
              "    <text dy=\"1.25em\" style=\"font-size: 0.8em; letter-spacing: 1px\">\n",
              "        <textPath xlink:href=\"#arrow-2bd5f91b065f45d182e8a6f10e19a2ca-0-20\" class=\"displacy-label\" startOffset=\"50%\" side=\"left\" fill=\"currentColor\" text-anchor=\"middle\">det</textPath>\n",
              "    </text>\n",
              "    <path class=\"displacy-arrowhead\" d=\"M3745,354.0 L3737,342.0 3753,342.0\" fill=\"currentColor\"/>\n",
              "</g>\n",
              "\n",
              "<g class=\"displacy-arrow\">\n",
              "    <path class=\"displacy-arc\" id=\"arrow-2bd5f91b065f45d182e8a6f10e19a2ca-0-21\" stroke-width=\"2px\" d=\"M3570,352.0 C3570,177.0 3890.0,177.0 3890.0,352.0\" fill=\"none\" stroke=\"currentColor\"/>\n",
              "    <text dy=\"1.25em\" style=\"font-size: 0.8em; letter-spacing: 1px\">\n",
              "        <textPath xlink:href=\"#arrow-2bd5f91b065f45d182e8a6f10e19a2ca-0-21\" class=\"displacy-label\" startOffset=\"50%\" side=\"left\" fill=\"currentColor\" text-anchor=\"middle\">pobj</textPath>\n",
              "    </text>\n",
              "    <path class=\"displacy-arrowhead\" d=\"M3890.0,354.0 L3898.0,342.0 3882.0,342.0\" fill=\"currentColor\"/>\n",
              "</g>\n",
              "</svg></span>"
            ]
          },
          "metadata": {}
        }
      ]
    },
    {
      "cell_type": "code",
      "source": [
        "options = {'compact':True, 'distance':90}\n",
        "displacy.render(doc, style='dep', jupyter=True, options=options)"
      ],
      "metadata": {
        "colab": {
          "base_uri": "https://localhost:8080/",
          "height": 359
        },
        "id": "eSt2PnmXkFZz",
        "outputId": "472a76ca-2cfa-4df8-f03e-6dbc43ceb9fe"
      },
      "execution_count": 20,
      "outputs": [
        {
          "output_type": "display_data",
          "data": {
            "text/plain": [
              "<IPython.core.display.HTML object>"
            ],
            "text/html": [
              "<span class=\"tex2jax_ignore\"><svg xmlns=\"http://www.w3.org/2000/svg\" xmlns:xlink=\"http://www.w3.org/1999/xlink\" xml:lang=\"en\" id=\"edf941fa19b14a02810068b990692b39-0\" class=\"displacy\" width=\"2120\" height=\"317.0\" direction=\"ltr\" style=\"max-width: none; height: 317.0px; color: #000000; background: #ffffff; font-family: Arial; direction: ltr\">\n",
              "<text class=\"displacy-token\" fill=\"currentColor\" text-anchor=\"middle\" y=\"227.0\">\n",
              "    <tspan class=\"displacy-word\" fill=\"currentColor\" x=\"50\">Apple</tspan>\n",
              "    <tspan class=\"displacy-tag\" dy=\"2em\" fill=\"currentColor\" x=\"50\">NOUN</tspan>\n",
              "</text>\n",
              "\n",
              "<text class=\"displacy-token\" fill=\"currentColor\" text-anchor=\"middle\" y=\"227.0\">\n",
              "    <tspan class=\"displacy-word\" fill=\"currentColor\" x=\"140\">at</tspan>\n",
              "    <tspan class=\"displacy-tag\" dy=\"2em\" fill=\"currentColor\" x=\"140\">ADP</tspan>\n",
              "</text>\n",
              "\n",
              "<text class=\"displacy-token\" fill=\"currentColor\" text-anchor=\"middle\" y=\"227.0\">\n",
              "    <tspan class=\"displacy-word\" fill=\"currentColor\" x=\"230\">WWDC</tspan>\n",
              "    <tspan class=\"displacy-tag\" dy=\"2em\" fill=\"currentColor\" x=\"230\">PROPN</tspan>\n",
              "</text>\n",
              "\n",
              "<text class=\"displacy-token\" fill=\"currentColor\" text-anchor=\"middle\" y=\"227.0\">\n",
              "    <tspan class=\"displacy-word\" fill=\"currentColor\" x=\"320\">this</tspan>\n",
              "    <tspan class=\"displacy-tag\" dy=\"2em\" fill=\"currentColor\" x=\"320\">DET</tspan>\n",
              "</text>\n",
              "\n",
              "<text class=\"displacy-token\" fill=\"currentColor\" text-anchor=\"middle\" y=\"227.0\">\n",
              "    <tspan class=\"displacy-word\" fill=\"currentColor\" x=\"410\">week</tspan>\n",
              "    <tspan class=\"displacy-tag\" dy=\"2em\" fill=\"currentColor\" x=\"410\">NOUN</tspan>\n",
              "</text>\n",
              "\n",
              "<text class=\"displacy-token\" fill=\"currentColor\" text-anchor=\"middle\" y=\"227.0\">\n",
              "    <tspan class=\"displacy-word\" fill=\"currentColor\" x=\"500\">announced</tspan>\n",
              "    <tspan class=\"displacy-tag\" dy=\"2em\" fill=\"currentColor\" x=\"500\">VERB</tspan>\n",
              "</text>\n",
              "\n",
              "<text class=\"displacy-token\" fill=\"currentColor\" text-anchor=\"middle\" y=\"227.0\">\n",
              "    <tspan class=\"displacy-word\" fill=\"currentColor\" x=\"590\">a</tspan>\n",
              "    <tspan class=\"displacy-tag\" dy=\"2em\" fill=\"currentColor\" x=\"590\">DET</tspan>\n",
              "</text>\n",
              "\n",
              "<text class=\"displacy-token\" fill=\"currentColor\" text-anchor=\"middle\" y=\"227.0\">\n",
              "    <tspan class=\"displacy-word\" fill=\"currentColor\" x=\"680\">new</tspan>\n",
              "    <tspan class=\"displacy-tag\" dy=\"2em\" fill=\"currentColor\" x=\"680\">ADJ</tspan>\n",
              "</text>\n",
              "\n",
              "<text class=\"displacy-token\" fill=\"currentColor\" text-anchor=\"middle\" y=\"227.0\">\n",
              "    <tspan class=\"displacy-word\" fill=\"currentColor\" x=\"770\">toolkit</tspan>\n",
              "    <tspan class=\"displacy-tag\" dy=\"2em\" fill=\"currentColor\" x=\"770\">NOUN</tspan>\n",
              "</text>\n",
              "\n",
              "<text class=\"displacy-token\" fill=\"currentColor\" text-anchor=\"middle\" y=\"227.0\">\n",
              "    <tspan class=\"displacy-word\" fill=\"currentColor\" x=\"860\">that</tspan>\n",
              "    <tspan class=\"displacy-tag\" dy=\"2em\" fill=\"currentColor\" x=\"860\">PRON</tspan>\n",
              "</text>\n",
              "\n",
              "<text class=\"displacy-token\" fill=\"currentColor\" text-anchor=\"middle\" y=\"227.0\">\n",
              "    <tspan class=\"displacy-word\" fill=\"currentColor\" x=\"950\">makes</tspan>\n",
              "    <tspan class=\"displacy-tag\" dy=\"2em\" fill=\"currentColor\" x=\"950\">VERB</tspan>\n",
              "</text>\n",
              "\n",
              "<text class=\"displacy-token\" fill=\"currentColor\" text-anchor=\"middle\" y=\"227.0\">\n",
              "    <tspan class=\"displacy-word\" fill=\"currentColor\" x=\"1040\">it</tspan>\n",
              "    <tspan class=\"displacy-tag\" dy=\"2em\" fill=\"currentColor\" x=\"1040\">PRON</tspan>\n",
              "</text>\n",
              "\n",
              "<text class=\"displacy-token\" fill=\"currentColor\" text-anchor=\"middle\" y=\"227.0\">\n",
              "    <tspan class=\"displacy-word\" fill=\"currentColor\" x=\"1130\">easier</tspan>\n",
              "    <tspan class=\"displacy-tag\" dy=\"2em\" fill=\"currentColor\" x=\"1130\">ADJ</tspan>\n",
              "</text>\n",
              "\n",
              "<text class=\"displacy-token\" fill=\"currentColor\" text-anchor=\"middle\" y=\"227.0\">\n",
              "    <tspan class=\"displacy-word\" fill=\"currentColor\" x=\"1220\">for</tspan>\n",
              "    <tspan class=\"displacy-tag\" dy=\"2em\" fill=\"currentColor\" x=\"1220\">SCONJ</tspan>\n",
              "</text>\n",
              "\n",
              "<text class=\"displacy-token\" fill=\"currentColor\" text-anchor=\"middle\" y=\"227.0\">\n",
              "    <tspan class=\"displacy-word\" fill=\"currentColor\" x=\"1310\">game</tspan>\n",
              "    <tspan class=\"displacy-tag\" dy=\"2em\" fill=\"currentColor\" x=\"1310\">NOUN</tspan>\n",
              "</text>\n",
              "\n",
              "<text class=\"displacy-token\" fill=\"currentColor\" text-anchor=\"middle\" y=\"227.0\">\n",
              "    <tspan class=\"displacy-word\" fill=\"currentColor\" x=\"1400\">developers</tspan>\n",
              "    <tspan class=\"displacy-tag\" dy=\"2em\" fill=\"currentColor\" x=\"1400\">NOUN</tspan>\n",
              "</text>\n",
              "\n",
              "<text class=\"displacy-token\" fill=\"currentColor\" text-anchor=\"middle\" y=\"227.0\">\n",
              "    <tspan class=\"displacy-word\" fill=\"currentColor\" x=\"1490\">to</tspan>\n",
              "    <tspan class=\"displacy-tag\" dy=\"2em\" fill=\"currentColor\" x=\"1490\">PART</tspan>\n",
              "</text>\n",
              "\n",
              "<text class=\"displacy-token\" fill=\"currentColor\" text-anchor=\"middle\" y=\"227.0\">\n",
              "    <tspan class=\"displacy-word\" fill=\"currentColor\" x=\"1580\">port</tspan>\n",
              "    <tspan class=\"displacy-tag\" dy=\"2em\" fill=\"currentColor\" x=\"1580\">VERB</tspan>\n",
              "</text>\n",
              "\n",
              "<text class=\"displacy-token\" fill=\"currentColor\" text-anchor=\"middle\" y=\"227.0\">\n",
              "    <tspan class=\"displacy-word\" fill=\"currentColor\" x=\"1670\">Windows</tspan>\n",
              "    <tspan class=\"displacy-tag\" dy=\"2em\" fill=\"currentColor\" x=\"1670\">PROPN</tspan>\n",
              "</text>\n",
              "\n",
              "<text class=\"displacy-token\" fill=\"currentColor\" text-anchor=\"middle\" y=\"227.0\">\n",
              "    <tspan class=\"displacy-word\" fill=\"currentColor\" x=\"1760\">games</tspan>\n",
              "    <tspan class=\"displacy-tag\" dy=\"2em\" fill=\"currentColor\" x=\"1760\">NOUN</tspan>\n",
              "</text>\n",
              "\n",
              "<text class=\"displacy-token\" fill=\"currentColor\" text-anchor=\"middle\" y=\"227.0\">\n",
              "    <tspan class=\"displacy-word\" fill=\"currentColor\" x=\"1850\">to</tspan>\n",
              "    <tspan class=\"displacy-tag\" dy=\"2em\" fill=\"currentColor\" x=\"1850\">ADP</tspan>\n",
              "</text>\n",
              "\n",
              "<text class=\"displacy-token\" fill=\"currentColor\" text-anchor=\"middle\" y=\"227.0\">\n",
              "    <tspan class=\"displacy-word\" fill=\"currentColor\" x=\"1940\">the</tspan>\n",
              "    <tspan class=\"displacy-tag\" dy=\"2em\" fill=\"currentColor\" x=\"1940\">DET</tspan>\n",
              "</text>\n",
              "\n",
              "<text class=\"displacy-token\" fill=\"currentColor\" text-anchor=\"middle\" y=\"227.0\">\n",
              "    <tspan class=\"displacy-word\" fill=\"currentColor\" x=\"2030\">Mac.</tspan>\n",
              "    <tspan class=\"displacy-tag\" dy=\"2em\" fill=\"currentColor\" x=\"2030\">PROPN</tspan>\n",
              "</text>\n",
              "\n",
              "<g class=\"displacy-arrow\">\n",
              "    <path class=\"displacy-arc\" id=\"arrow-edf941fa19b14a02810068b990692b39-0-0\" stroke-width=\"2px\" d=\"M62,182.0 62,152.0 494.0,152.0 494.0,182.0\" fill=\"none\" stroke=\"currentColor\"/>\n",
              "    <text dy=\"1.25em\" style=\"font-size: 0.8em; letter-spacing: 1px\">\n",
              "        <textPath xlink:href=\"#arrow-edf941fa19b14a02810068b990692b39-0-0\" class=\"displacy-label\" startOffset=\"50%\" side=\"left\" fill=\"currentColor\" text-anchor=\"middle\">nsubj</textPath>\n",
              "    </text>\n",
              "    <path class=\"displacy-arrowhead\" d=\"M62,184.0 L58,176.0 66,176.0\" fill=\"currentColor\"/>\n",
              "</g>\n",
              "\n",
              "<g class=\"displacy-arrow\">\n",
              "    <path class=\"displacy-arc\" id=\"arrow-edf941fa19b14a02810068b990692b39-0-1\" stroke-width=\"2px\" d=\"M62,182.0 62,167.0 131.0,167.0 131.0,182.0\" fill=\"none\" stroke=\"currentColor\"/>\n",
              "    <text dy=\"1.25em\" style=\"font-size: 0.8em; letter-spacing: 1px\">\n",
              "        <textPath xlink:href=\"#arrow-edf941fa19b14a02810068b990692b39-0-1\" class=\"displacy-label\" startOffset=\"50%\" side=\"left\" fill=\"currentColor\" text-anchor=\"middle\">prep</textPath>\n",
              "    </text>\n",
              "    <path class=\"displacy-arrowhead\" d=\"M131.0,184.0 L135.0,176.0 127.0,176.0\" fill=\"currentColor\"/>\n",
              "</g>\n",
              "\n",
              "<g class=\"displacy-arrow\">\n",
              "    <path class=\"displacy-arc\" id=\"arrow-edf941fa19b14a02810068b990692b39-0-2\" stroke-width=\"2px\" d=\"M152,182.0 152,167.0 221.0,167.0 221.0,182.0\" fill=\"none\" stroke=\"currentColor\"/>\n",
              "    <text dy=\"1.25em\" style=\"font-size: 0.8em; letter-spacing: 1px\">\n",
              "        <textPath xlink:href=\"#arrow-edf941fa19b14a02810068b990692b39-0-2\" class=\"displacy-label\" startOffset=\"50%\" side=\"left\" fill=\"currentColor\" text-anchor=\"middle\">pobj</textPath>\n",
              "    </text>\n",
              "    <path class=\"displacy-arrowhead\" d=\"M221.0,184.0 L225.0,176.0 217.0,176.0\" fill=\"currentColor\"/>\n",
              "</g>\n",
              "\n",
              "<g class=\"displacy-arrow\">\n",
              "    <path class=\"displacy-arc\" id=\"arrow-edf941fa19b14a02810068b990692b39-0-3\" stroke-width=\"2px\" d=\"M332,182.0 332,167.0 401.0,167.0 401.0,182.0\" fill=\"none\" stroke=\"currentColor\"/>\n",
              "    <text dy=\"1.25em\" style=\"font-size: 0.8em; letter-spacing: 1px\">\n",
              "        <textPath xlink:href=\"#arrow-edf941fa19b14a02810068b990692b39-0-3\" class=\"displacy-label\" startOffset=\"50%\" side=\"left\" fill=\"currentColor\" text-anchor=\"middle\">det</textPath>\n",
              "    </text>\n",
              "    <path class=\"displacy-arrowhead\" d=\"M332,184.0 L328,176.0 336,176.0\" fill=\"currentColor\"/>\n",
              "</g>\n",
              "\n",
              "<g class=\"displacy-arrow\">\n",
              "    <path class=\"displacy-arc\" id=\"arrow-edf941fa19b14a02810068b990692b39-0-4\" stroke-width=\"2px\" d=\"M422,182.0 422,167.0 491.0,167.0 491.0,182.0\" fill=\"none\" stroke=\"currentColor\"/>\n",
              "    <text dy=\"1.25em\" style=\"font-size: 0.8em; letter-spacing: 1px\">\n",
              "        <textPath xlink:href=\"#arrow-edf941fa19b14a02810068b990692b39-0-4\" class=\"displacy-label\" startOffset=\"50%\" side=\"left\" fill=\"currentColor\" text-anchor=\"middle\">npadvmod</textPath>\n",
              "    </text>\n",
              "    <path class=\"displacy-arrowhead\" d=\"M422,184.0 L418,176.0 426,176.0\" fill=\"currentColor\"/>\n",
              "</g>\n",
              "\n",
              "<g class=\"displacy-arrow\">\n",
              "    <path class=\"displacy-arc\" id=\"arrow-edf941fa19b14a02810068b990692b39-0-5\" stroke-width=\"2px\" d=\"M602,182.0 602,152.0 764.0,152.0 764.0,182.0\" fill=\"none\" stroke=\"currentColor\"/>\n",
              "    <text dy=\"1.25em\" style=\"font-size: 0.8em; letter-spacing: 1px\">\n",
              "        <textPath xlink:href=\"#arrow-edf941fa19b14a02810068b990692b39-0-5\" class=\"displacy-label\" startOffset=\"50%\" side=\"left\" fill=\"currentColor\" text-anchor=\"middle\">det</textPath>\n",
              "    </text>\n",
              "    <path class=\"displacy-arrowhead\" d=\"M602,184.0 L598,176.0 606,176.0\" fill=\"currentColor\"/>\n",
              "</g>\n",
              "\n",
              "<g class=\"displacy-arrow\">\n",
              "    <path class=\"displacy-arc\" id=\"arrow-edf941fa19b14a02810068b990692b39-0-6\" stroke-width=\"2px\" d=\"M692,182.0 692,167.0 761.0,167.0 761.0,182.0\" fill=\"none\" stroke=\"currentColor\"/>\n",
              "    <text dy=\"1.25em\" style=\"font-size: 0.8em; letter-spacing: 1px\">\n",
              "        <textPath xlink:href=\"#arrow-edf941fa19b14a02810068b990692b39-0-6\" class=\"displacy-label\" startOffset=\"50%\" side=\"left\" fill=\"currentColor\" text-anchor=\"middle\">amod</textPath>\n",
              "    </text>\n",
              "    <path class=\"displacy-arrowhead\" d=\"M692,184.0 L688,176.0 696,176.0\" fill=\"currentColor\"/>\n",
              "</g>\n",
              "\n",
              "<g class=\"displacy-arrow\">\n",
              "    <path class=\"displacy-arc\" id=\"arrow-edf941fa19b14a02810068b990692b39-0-7\" stroke-width=\"2px\" d=\"M512,182.0 512,137.0 767.0,137.0 767.0,182.0\" fill=\"none\" stroke=\"currentColor\"/>\n",
              "    <text dy=\"1.25em\" style=\"font-size: 0.8em; letter-spacing: 1px\">\n",
              "        <textPath xlink:href=\"#arrow-edf941fa19b14a02810068b990692b39-0-7\" class=\"displacy-label\" startOffset=\"50%\" side=\"left\" fill=\"currentColor\" text-anchor=\"middle\">dobj</textPath>\n",
              "    </text>\n",
              "    <path class=\"displacy-arrowhead\" d=\"M767.0,184.0 L771.0,176.0 763.0,176.0\" fill=\"currentColor\"/>\n",
              "</g>\n",
              "\n",
              "<g class=\"displacy-arrow\">\n",
              "    <path class=\"displacy-arc\" id=\"arrow-edf941fa19b14a02810068b990692b39-0-8\" stroke-width=\"2px\" d=\"M872,182.0 872,167.0 941.0,167.0 941.0,182.0\" fill=\"none\" stroke=\"currentColor\"/>\n",
              "    <text dy=\"1.25em\" style=\"font-size: 0.8em; letter-spacing: 1px\">\n",
              "        <textPath xlink:href=\"#arrow-edf941fa19b14a02810068b990692b39-0-8\" class=\"displacy-label\" startOffset=\"50%\" side=\"left\" fill=\"currentColor\" text-anchor=\"middle\">nsubj</textPath>\n",
              "    </text>\n",
              "    <path class=\"displacy-arrowhead\" d=\"M872,184.0 L868,176.0 876,176.0\" fill=\"currentColor\"/>\n",
              "</g>\n",
              "\n",
              "<g class=\"displacy-arrow\">\n",
              "    <path class=\"displacy-arc\" id=\"arrow-edf941fa19b14a02810068b990692b39-0-9\" stroke-width=\"2px\" d=\"M782,182.0 782,152.0 944.0,152.0 944.0,182.0\" fill=\"none\" stroke=\"currentColor\"/>\n",
              "    <text dy=\"1.25em\" style=\"font-size: 0.8em; letter-spacing: 1px\">\n",
              "        <textPath xlink:href=\"#arrow-edf941fa19b14a02810068b990692b39-0-9\" class=\"displacy-label\" startOffset=\"50%\" side=\"left\" fill=\"currentColor\" text-anchor=\"middle\">relcl</textPath>\n",
              "    </text>\n",
              "    <path class=\"displacy-arrowhead\" d=\"M944.0,184.0 L948.0,176.0 940.0,176.0\" fill=\"currentColor\"/>\n",
              "</g>\n",
              "\n",
              "<g class=\"displacy-arrow\">\n",
              "    <path class=\"displacy-arc\" id=\"arrow-edf941fa19b14a02810068b990692b39-0-10\" stroke-width=\"2px\" d=\"M1052,182.0 1052,167.0 1121.0,167.0 1121.0,182.0\" fill=\"none\" stroke=\"currentColor\"/>\n",
              "    <text dy=\"1.25em\" style=\"font-size: 0.8em; letter-spacing: 1px\">\n",
              "        <textPath xlink:href=\"#arrow-edf941fa19b14a02810068b990692b39-0-10\" class=\"displacy-label\" startOffset=\"50%\" side=\"left\" fill=\"currentColor\" text-anchor=\"middle\">nsubj</textPath>\n",
              "    </text>\n",
              "    <path class=\"displacy-arrowhead\" d=\"M1052,184.0 L1048,176.0 1056,176.0\" fill=\"currentColor\"/>\n",
              "</g>\n",
              "\n",
              "<g class=\"displacy-arrow\">\n",
              "    <path class=\"displacy-arc\" id=\"arrow-edf941fa19b14a02810068b990692b39-0-11\" stroke-width=\"2px\" d=\"M962,182.0 962,152.0 1124.0,152.0 1124.0,182.0\" fill=\"none\" stroke=\"currentColor\"/>\n",
              "    <text dy=\"1.25em\" style=\"font-size: 0.8em; letter-spacing: 1px\">\n",
              "        <textPath xlink:href=\"#arrow-edf941fa19b14a02810068b990692b39-0-11\" class=\"displacy-label\" startOffset=\"50%\" side=\"left\" fill=\"currentColor\" text-anchor=\"middle\">ccomp</textPath>\n",
              "    </text>\n",
              "    <path class=\"displacy-arrowhead\" d=\"M1124.0,184.0 L1128.0,176.0 1120.0,176.0\" fill=\"currentColor\"/>\n",
              "</g>\n",
              "\n",
              "<g class=\"displacy-arrow\">\n",
              "    <path class=\"displacy-arc\" id=\"arrow-edf941fa19b14a02810068b990692b39-0-12\" stroke-width=\"2px\" d=\"M1232,182.0 1232,137.0 1577.0,137.0 1577.0,182.0\" fill=\"none\" stroke=\"currentColor\"/>\n",
              "    <text dy=\"1.25em\" style=\"font-size: 0.8em; letter-spacing: 1px\">\n",
              "        <textPath xlink:href=\"#arrow-edf941fa19b14a02810068b990692b39-0-12\" class=\"displacy-label\" startOffset=\"50%\" side=\"left\" fill=\"currentColor\" text-anchor=\"middle\">mark</textPath>\n",
              "    </text>\n",
              "    <path class=\"displacy-arrowhead\" d=\"M1232,184.0 L1228,176.0 1236,176.0\" fill=\"currentColor\"/>\n",
              "</g>\n",
              "\n",
              "<g class=\"displacy-arrow\">\n",
              "    <path class=\"displacy-arc\" id=\"arrow-edf941fa19b14a02810068b990692b39-0-13\" stroke-width=\"2px\" d=\"M1322,182.0 1322,167.0 1391.0,167.0 1391.0,182.0\" fill=\"none\" stroke=\"currentColor\"/>\n",
              "    <text dy=\"1.25em\" style=\"font-size: 0.8em; letter-spacing: 1px\">\n",
              "        <textPath xlink:href=\"#arrow-edf941fa19b14a02810068b990692b39-0-13\" class=\"displacy-label\" startOffset=\"50%\" side=\"left\" fill=\"currentColor\" text-anchor=\"middle\">compound</textPath>\n",
              "    </text>\n",
              "    <path class=\"displacy-arrowhead\" d=\"M1322,184.0 L1318,176.0 1326,176.0\" fill=\"currentColor\"/>\n",
              "</g>\n",
              "\n",
              "<g class=\"displacy-arrow\">\n",
              "    <path class=\"displacy-arc\" id=\"arrow-edf941fa19b14a02810068b990692b39-0-14\" stroke-width=\"2px\" d=\"M1412,182.0 1412,152.0 1574.0,152.0 1574.0,182.0\" fill=\"none\" stroke=\"currentColor\"/>\n",
              "    <text dy=\"1.25em\" style=\"font-size: 0.8em; letter-spacing: 1px\">\n",
              "        <textPath xlink:href=\"#arrow-edf941fa19b14a02810068b990692b39-0-14\" class=\"displacy-label\" startOffset=\"50%\" side=\"left\" fill=\"currentColor\" text-anchor=\"middle\">nsubj</textPath>\n",
              "    </text>\n",
              "    <path class=\"displacy-arrowhead\" d=\"M1412,184.0 L1408,176.0 1416,176.0\" fill=\"currentColor\"/>\n",
              "</g>\n",
              "\n",
              "<g class=\"displacy-arrow\">\n",
              "    <path class=\"displacy-arc\" id=\"arrow-edf941fa19b14a02810068b990692b39-0-15\" stroke-width=\"2px\" d=\"M1502,182.0 1502,167.0 1571.0,167.0 1571.0,182.0\" fill=\"none\" stroke=\"currentColor\"/>\n",
              "    <text dy=\"1.25em\" style=\"font-size: 0.8em; letter-spacing: 1px\">\n",
              "        <textPath xlink:href=\"#arrow-edf941fa19b14a02810068b990692b39-0-15\" class=\"displacy-label\" startOffset=\"50%\" side=\"left\" fill=\"currentColor\" text-anchor=\"middle\">aux</textPath>\n",
              "    </text>\n",
              "    <path class=\"displacy-arrowhead\" d=\"M1502,184.0 L1498,176.0 1506,176.0\" fill=\"currentColor\"/>\n",
              "</g>\n",
              "\n",
              "<g class=\"displacy-arrow\">\n",
              "    <path class=\"displacy-arc\" id=\"arrow-edf941fa19b14a02810068b990692b39-0-16\" stroke-width=\"2px\" d=\"M1142,182.0 1142,122.0 1580.0,122.0 1580.0,182.0\" fill=\"none\" stroke=\"currentColor\"/>\n",
              "    <text dy=\"1.25em\" style=\"font-size: 0.8em; letter-spacing: 1px\">\n",
              "        <textPath xlink:href=\"#arrow-edf941fa19b14a02810068b990692b39-0-16\" class=\"displacy-label\" startOffset=\"50%\" side=\"left\" fill=\"currentColor\" text-anchor=\"middle\">advcl</textPath>\n",
              "    </text>\n",
              "    <path class=\"displacy-arrowhead\" d=\"M1580.0,184.0 L1584.0,176.0 1576.0,176.0\" fill=\"currentColor\"/>\n",
              "</g>\n",
              "\n",
              "<g class=\"displacy-arrow\">\n",
              "    <path class=\"displacy-arc\" id=\"arrow-edf941fa19b14a02810068b990692b39-0-17\" stroke-width=\"2px\" d=\"M1682,182.0 1682,167.0 1751.0,167.0 1751.0,182.0\" fill=\"none\" stroke=\"currentColor\"/>\n",
              "    <text dy=\"1.25em\" style=\"font-size: 0.8em; letter-spacing: 1px\">\n",
              "        <textPath xlink:href=\"#arrow-edf941fa19b14a02810068b990692b39-0-17\" class=\"displacy-label\" startOffset=\"50%\" side=\"left\" fill=\"currentColor\" text-anchor=\"middle\">compound</textPath>\n",
              "    </text>\n",
              "    <path class=\"displacy-arrowhead\" d=\"M1682,184.0 L1678,176.0 1686,176.0\" fill=\"currentColor\"/>\n",
              "</g>\n",
              "\n",
              "<g class=\"displacy-arrow\">\n",
              "    <path class=\"displacy-arc\" id=\"arrow-edf941fa19b14a02810068b990692b39-0-18\" stroke-width=\"2px\" d=\"M1592,182.0 1592,152.0 1754.0,152.0 1754.0,182.0\" fill=\"none\" stroke=\"currentColor\"/>\n",
              "    <text dy=\"1.25em\" style=\"font-size: 0.8em; letter-spacing: 1px\">\n",
              "        <textPath xlink:href=\"#arrow-edf941fa19b14a02810068b990692b39-0-18\" class=\"displacy-label\" startOffset=\"50%\" side=\"left\" fill=\"currentColor\" text-anchor=\"middle\">dobj</textPath>\n",
              "    </text>\n",
              "    <path class=\"displacy-arrowhead\" d=\"M1754.0,184.0 L1758.0,176.0 1750.0,176.0\" fill=\"currentColor\"/>\n",
              "</g>\n",
              "\n",
              "<g class=\"displacy-arrow\">\n",
              "    <path class=\"displacy-arc\" id=\"arrow-edf941fa19b14a02810068b990692b39-0-19\" stroke-width=\"2px\" d=\"M1592,182.0 1592,137.0 1847.0,137.0 1847.0,182.0\" fill=\"none\" stroke=\"currentColor\"/>\n",
              "    <text dy=\"1.25em\" style=\"font-size: 0.8em; letter-spacing: 1px\">\n",
              "        <textPath xlink:href=\"#arrow-edf941fa19b14a02810068b990692b39-0-19\" class=\"displacy-label\" startOffset=\"50%\" side=\"left\" fill=\"currentColor\" text-anchor=\"middle\">prep</textPath>\n",
              "    </text>\n",
              "    <path class=\"displacy-arrowhead\" d=\"M1847.0,184.0 L1851.0,176.0 1843.0,176.0\" fill=\"currentColor\"/>\n",
              "</g>\n",
              "\n",
              "<g class=\"displacy-arrow\">\n",
              "    <path class=\"displacy-arc\" id=\"arrow-edf941fa19b14a02810068b990692b39-0-20\" stroke-width=\"2px\" d=\"M1952,182.0 1952,167.0 2021.0,167.0 2021.0,182.0\" fill=\"none\" stroke=\"currentColor\"/>\n",
              "    <text dy=\"1.25em\" style=\"font-size: 0.8em; letter-spacing: 1px\">\n",
              "        <textPath xlink:href=\"#arrow-edf941fa19b14a02810068b990692b39-0-20\" class=\"displacy-label\" startOffset=\"50%\" side=\"left\" fill=\"currentColor\" text-anchor=\"middle\">det</textPath>\n",
              "    </text>\n",
              "    <path class=\"displacy-arrowhead\" d=\"M1952,184.0 L1948,176.0 1956,176.0\" fill=\"currentColor\"/>\n",
              "</g>\n",
              "\n",
              "<g class=\"displacy-arrow\">\n",
              "    <path class=\"displacy-arc\" id=\"arrow-edf941fa19b14a02810068b990692b39-0-21\" stroke-width=\"2px\" d=\"M1862,182.0 1862,152.0 2024.0,152.0 2024.0,182.0\" fill=\"none\" stroke=\"currentColor\"/>\n",
              "    <text dy=\"1.25em\" style=\"font-size: 0.8em; letter-spacing: 1px\">\n",
              "        <textPath xlink:href=\"#arrow-edf941fa19b14a02810068b990692b39-0-21\" class=\"displacy-label\" startOffset=\"50%\" side=\"left\" fill=\"currentColor\" text-anchor=\"middle\">pobj</textPath>\n",
              "    </text>\n",
              "    <path class=\"displacy-arrowhead\" d=\"M2024.0,184.0 L2028.0,176.0 2020.0,176.0\" fill=\"currentColor\"/>\n",
              "</g>\n",
              "</svg></span>"
            ]
          },
          "metadata": {}
        }
      ]
    },
    {
      "cell_type": "markdown",
      "source": [
        "### Sentence Boundary Detection"
      ],
      "metadata": {
        "id": "D9Ipy4xYlRp2"
      }
    },
    {
      "cell_type": "code",
      "source": [
        "paragraph = '''To create and use a SpaCy pipeline, you typically load a pre-trained language model, such as \"en_core_web_sm\" for English, and apply the pipeline components to process your text. You can also build your own custom pipeline by defining and adding custom components using SpaCy's API.\n",
        "'''"
      ],
      "metadata": {
        "id": "1o9MRlQknLgs"
      },
      "execution_count": 23,
      "outputs": []
    },
    {
      "cell_type": "code",
      "source": [
        "paragraph"
      ],
      "metadata": {
        "colab": {
          "base_uri": "https://localhost:8080/",
          "height": 53
        },
        "id": "1ncMZr-inLcr",
        "outputId": "9a1d7e63-366f-4632-8808-0e90f891558c"
      },
      "execution_count": 24,
      "outputs": [
        {
          "output_type": "execute_result",
          "data": {
            "text/plain": [
              "'To create and use a SpaCy pipeline, you typically load a pre-trained language model, such as \"en_core_web_sm\" for English, and apply the pipeline components to process your text. You can also build your own custom pipeline by defining and adding custom components using SpaCy\\'s API.\\n'"
            ],
            "application/vnd.google.colaboratory.intrinsic+json": {
              "type": "string"
            }
          },
          "metadata": {},
          "execution_count": 24
        }
      ]
    },
    {
      "cell_type": "code",
      "source": [
        "doc = nlp(paragraph)"
      ],
      "metadata": {
        "id": "tpBONIFonLaN"
      },
      "execution_count": 25,
      "outputs": []
    },
    {
      "cell_type": "code",
      "source": [
        "doc"
      ],
      "metadata": {
        "colab": {
          "base_uri": "https://localhost:8080/"
        },
        "id": "5pc6_4VenLVU",
        "outputId": "e36ba077-8834-4e62-e7ac-be121cd5d5b9"
      },
      "execution_count": 26,
      "outputs": [
        {
          "output_type": "execute_result",
          "data": {
            "text/plain": [
              "To create and use a SpaCy pipeline, you typically load a pre-trained language model, such as \"en_core_web_sm\" for English, and apply the pipeline components to process your text. You can also build your own custom pipeline by defining and adding custom components using SpaCy's API."
            ]
          },
          "metadata": {},
          "execution_count": 26
        }
      ]
    },
    {
      "cell_type": "code",
      "source": [
        "li = list(doc.sents)"
      ],
      "metadata": {
        "id": "kJUBDnuUn4iw"
      },
      "execution_count": 29,
      "outputs": []
    },
    {
      "cell_type": "code",
      "source": [
        "len(li)"
      ],
      "metadata": {
        "colab": {
          "base_uri": "https://localhost:8080/"
        },
        "id": "WYdHeNR7n6v-",
        "outputId": "4ed58c2f-79ee-44ae-8860-8eee6a0d93ca"
      },
      "execution_count": 30,
      "outputs": [
        {
          "output_type": "execute_result",
          "data": {
            "text/plain": [
              "2"
            ]
          },
          "metadata": {},
          "execution_count": 30
        }
      ]
    },
    {
      "cell_type": "code",
      "source": [
        "li"
      ],
      "metadata": {
        "colab": {
          "base_uri": "https://localhost:8080/"
        },
        "id": "i8dc8ZtcoD26",
        "outputId": "80d84e09-3715-466c-98f5-dcc421e93093"
      },
      "execution_count": 31,
      "outputs": [
        {
          "output_type": "execute_result",
          "data": {
            "text/plain": [
              "[To create and use a SpaCy pipeline, you typically load a pre-trained language model, such as \"en_core_web_sm\" for English, and apply the pipeline components to process your text.,\n",
              " You can also build your own custom pipeline by defining and adding custom components using SpaCy's API.]"
            ]
          },
          "metadata": {},
          "execution_count": 31
        }
      ]
    },
    {
      "cell_type": "markdown",
      "source": [
        "### Stopwords"
      ],
      "metadata": {
        "id": "HFrUaoOCoFj5"
      }
    },
    {
      "cell_type": "code",
      "source": [
        "stopwords = spacy.lang.en.stop_words.STOP_WORDS"
      ],
      "metadata": {
        "id": "8GxNulwFpCui"
      },
      "execution_count": 32,
      "outputs": []
    },
    {
      "cell_type": "code",
      "source": [
        "stopwords"
      ],
      "metadata": {
        "colab": {
          "base_uri": "https://localhost:8080/"
        },
        "id": "UUf6t9y8pCqW",
        "outputId": "3a2aaf86-d555-4890-d6cc-0c26b0066e45"
      },
      "execution_count": 42,
      "outputs": [
        {
          "output_type": "execute_result",
          "data": {
            "text/plain": [
              "{\"'d\",\n",
              " \"'ll\",\n",
              " \"'m\",\n",
              " \"'re\",\n",
              " \"'s\",\n",
              " \"'ve\",\n",
              " 'a',\n",
              " 'about',\n",
              " 'above',\n",
              " 'across',\n",
              " 'after',\n",
              " 'afterwards',\n",
              " 'again',\n",
              " 'against',\n",
              " 'all',\n",
              " 'almost',\n",
              " 'alone',\n",
              " 'along',\n",
              " 'already',\n",
              " 'also',\n",
              " 'although',\n",
              " 'always',\n",
              " 'am',\n",
              " 'among',\n",
              " 'amongst',\n",
              " 'amount',\n",
              " 'an',\n",
              " 'and',\n",
              " 'another',\n",
              " 'any',\n",
              " 'anyhow',\n",
              " 'anyone',\n",
              " 'anything',\n",
              " 'anyway',\n",
              " 'anywhere',\n",
              " 'are',\n",
              " 'around',\n",
              " 'as',\n",
              " 'at',\n",
              " 'back',\n",
              " 'be',\n",
              " 'became',\n",
              " 'because',\n",
              " 'become',\n",
              " 'becomes',\n",
              " 'becoming',\n",
              " 'been',\n",
              " 'before',\n",
              " 'beforehand',\n",
              " 'behind',\n",
              " 'being',\n",
              " 'below',\n",
              " 'beside',\n",
              " 'besides',\n",
              " 'between',\n",
              " 'beyond',\n",
              " 'both',\n",
              " 'bottom',\n",
              " 'but',\n",
              " 'by',\n",
              " 'ca',\n",
              " 'call',\n",
              " 'can',\n",
              " 'cannot',\n",
              " 'could',\n",
              " 'did',\n",
              " 'do',\n",
              " 'does',\n",
              " 'doing',\n",
              " 'done',\n",
              " 'down',\n",
              " 'due',\n",
              " 'during',\n",
              " 'each',\n",
              " 'eight',\n",
              " 'either',\n",
              " 'eleven',\n",
              " 'else',\n",
              " 'elsewhere',\n",
              " 'empty',\n",
              " 'enough',\n",
              " 'even',\n",
              " 'ever',\n",
              " 'every',\n",
              " 'everyone',\n",
              " 'everything',\n",
              " 'everywhere',\n",
              " 'except',\n",
              " 'few',\n",
              " 'fifteen',\n",
              " 'fifty',\n",
              " 'first',\n",
              " 'five',\n",
              " 'for',\n",
              " 'former',\n",
              " 'formerly',\n",
              " 'forty',\n",
              " 'four',\n",
              " 'from',\n",
              " 'front',\n",
              " 'full',\n",
              " 'further',\n",
              " 'get',\n",
              " 'give',\n",
              " 'go',\n",
              " 'had',\n",
              " 'has',\n",
              " 'have',\n",
              " 'he',\n",
              " 'hence',\n",
              " 'her',\n",
              " 'here',\n",
              " 'hereafter',\n",
              " 'hereby',\n",
              " 'herein',\n",
              " 'hereupon',\n",
              " 'hers',\n",
              " 'herself',\n",
              " 'him',\n",
              " 'himself',\n",
              " 'his',\n",
              " 'how',\n",
              " 'however',\n",
              " 'hundred',\n",
              " 'i',\n",
              " 'if',\n",
              " 'in',\n",
              " 'indeed',\n",
              " 'into',\n",
              " 'is',\n",
              " 'it',\n",
              " 'its',\n",
              " 'itself',\n",
              " 'just',\n",
              " 'keep',\n",
              " 'last',\n",
              " 'latter',\n",
              " 'latterly',\n",
              " 'least',\n",
              " 'less',\n",
              " 'made',\n",
              " 'make',\n",
              " 'many',\n",
              " 'may',\n",
              " 'me',\n",
              " 'meanwhile',\n",
              " 'might',\n",
              " 'mine',\n",
              " 'more',\n",
              " 'moreover',\n",
              " 'most',\n",
              " 'mostly',\n",
              " 'move',\n",
              " 'much',\n",
              " 'must',\n",
              " 'my',\n",
              " 'myself',\n",
              " \"n't\",\n",
              " 'name',\n",
              " 'namely',\n",
              " 'neither',\n",
              " 'never',\n",
              " 'nevertheless',\n",
              " 'next',\n",
              " 'nine',\n",
              " 'no',\n",
              " 'nobody',\n",
              " 'none',\n",
              " 'noone',\n",
              " 'nor',\n",
              " 'not',\n",
              " 'nothing',\n",
              " 'now',\n",
              " 'nowhere',\n",
              " 'n‘t',\n",
              " 'n’t',\n",
              " 'of',\n",
              " 'off',\n",
              " 'often',\n",
              " 'on',\n",
              " 'once',\n",
              " 'one',\n",
              " 'only',\n",
              " 'onto',\n",
              " 'or',\n",
              " 'other',\n",
              " 'others',\n",
              " 'otherwise',\n",
              " 'our',\n",
              " 'ours',\n",
              " 'ourselves',\n",
              " 'out',\n",
              " 'over',\n",
              " 'own',\n",
              " 'part',\n",
              " 'per',\n",
              " 'perhaps',\n",
              " 'please',\n",
              " 'put',\n",
              " 'quite',\n",
              " 'rather',\n",
              " 're',\n",
              " 'really',\n",
              " 'regarding',\n",
              " 'same',\n",
              " 'say',\n",
              " 'see',\n",
              " 'seem',\n",
              " 'seemed',\n",
              " 'seeming',\n",
              " 'seems',\n",
              " 'serious',\n",
              " 'several',\n",
              " 'she',\n",
              " 'should',\n",
              " 'show',\n",
              " 'side',\n",
              " 'since',\n",
              " 'six',\n",
              " 'sixty',\n",
              " 'so',\n",
              " 'some',\n",
              " 'somehow',\n",
              " 'someone',\n",
              " 'something',\n",
              " 'sometime',\n",
              " 'sometimes',\n",
              " 'somewhere',\n",
              " 'still',\n",
              " 'such',\n",
              " 'take',\n",
              " 'ten',\n",
              " 'than',\n",
              " 'that',\n",
              " 'the',\n",
              " 'their',\n",
              " 'them',\n",
              " 'themselves',\n",
              " 'then',\n",
              " 'thence',\n",
              " 'there',\n",
              " 'thereafter',\n",
              " 'thereby',\n",
              " 'therefore',\n",
              " 'therein',\n",
              " 'thereupon',\n",
              " 'these',\n",
              " 'they',\n",
              " 'third',\n",
              " 'this',\n",
              " 'those',\n",
              " 'though',\n",
              " 'three',\n",
              " 'through',\n",
              " 'throughout',\n",
              " 'thru',\n",
              " 'thus',\n",
              " 'to',\n",
              " 'together',\n",
              " 'too',\n",
              " 'top',\n",
              " 'toward',\n",
              " 'towards',\n",
              " 'twelve',\n",
              " 'twenty',\n",
              " 'two',\n",
              " 'under',\n",
              " 'unless',\n",
              " 'until',\n",
              " 'up',\n",
              " 'upon',\n",
              " 'us',\n",
              " 'used',\n",
              " 'using',\n",
              " 'various',\n",
              " 'very',\n",
              " 'via',\n",
              " 'was',\n",
              " 'we',\n",
              " 'well',\n",
              " 'were',\n",
              " 'what',\n",
              " 'whatever',\n",
              " 'when',\n",
              " 'whence',\n",
              " 'whenever',\n",
              " 'where',\n",
              " 'whereafter',\n",
              " 'whereas',\n",
              " 'whereby',\n",
              " 'wherein',\n",
              " 'whereupon',\n",
              " 'wherever',\n",
              " 'whether',\n",
              " 'which',\n",
              " 'while',\n",
              " 'whither',\n",
              " 'who',\n",
              " 'whoever',\n",
              " 'whole',\n",
              " 'whom',\n",
              " 'whose',\n",
              " 'why',\n",
              " 'will',\n",
              " 'with',\n",
              " 'within',\n",
              " 'without',\n",
              " 'would',\n",
              " 'yet',\n",
              " 'you',\n",
              " 'your',\n",
              " 'yours',\n",
              " 'yourself',\n",
              " 'yourselves',\n",
              " '‘d',\n",
              " '‘ll',\n",
              " '‘m',\n",
              " '‘re',\n",
              " '‘s',\n",
              " '‘ve',\n",
              " '’d',\n",
              " '’ll',\n",
              " '’m',\n",
              " '’re',\n",
              " '’s',\n",
              " '’ve'}"
            ]
          },
          "metadata": {},
          "execution_count": 42
        }
      ]
    },
    {
      "cell_type": "code",
      "source": [
        "len(stopwords)"
      ],
      "metadata": {
        "colab": {
          "base_uri": "https://localhost:8080/"
        },
        "id": "rK4v-2JMpCoD",
        "outputId": "926632da-83aa-412d-b46f-f812425ac75c"
      },
      "execution_count": 34,
      "outputs": [
        {
          "output_type": "execute_result",
          "data": {
            "text/plain": [
              "326"
            ]
          },
          "metadata": {},
          "execution_count": 34
        }
      ]
    },
    {
      "cell_type": "code",
      "source": [
        "doc = nlp('Rama is a good boy')"
      ],
      "metadata": {
        "id": "Owp9snB1rcHu"
      },
      "execution_count": 43,
      "outputs": []
    },
    {
      "cell_type": "code",
      "source": [
        "## Remove stopwords from the sentence\n",
        "for token in doc:\n",
        "  #print(token)\n",
        "  if token.text not in stopwords:\n",
        "    print(token)\n",
        "  "
      ],
      "metadata": {
        "colab": {
          "base_uri": "https://localhost:8080/"
        },
        "id": "oT_Dy110pClh",
        "outputId": "df28d65e-2dc2-453e-9382-94f8c0e5a599"
      },
      "execution_count": 46,
      "outputs": [
        {
          "output_type": "stream",
          "name": "stdout",
          "text": [
            "Rama\n",
            "good\n",
            "boy\n"
          ]
        }
      ]
    },
    {
      "cell_type": "code",
      "source": [],
      "metadata": {
        "id": "e_JSDJa2pCjf"
      },
      "execution_count": null,
      "outputs": []
    },
    {
      "cell_type": "code",
      "source": [],
      "metadata": {
        "id": "wAgfuUIdpChQ"
      },
      "execution_count": null,
      "outputs": []
    }
  ]
}